{
  "nbformat": 4,
  "nbformat_minor": 0,
  "metadata": {
    "colab": {
      "name": "Linear Algebra (M4ML).ipynb",
      "provenance": [],
      "authorship_tag": "ABX9TyP14h8lsDjOkwq3SJpH51Yz",
      "include_colab_link": true
    },
    "kernelspec": {
      "name": "python3",
      "display_name": "Python 3"
    },
    "language_info": {
      "name": "python"
    }
  },
  "cells": [
    {
      "cell_type": "markdown",
      "metadata": {
        "id": "view-in-github",
        "colab_type": "text"
      },
      "source": [
        "<a href=\"https://colab.research.google.com/github/timsetsfire/m4ml/blob/main/Linear_Algebra_(M4ML).ipynb\" target=\"_parent\"><img src=\"https://colab.research.google.com/assets/colab-badge.svg\" alt=\"Open In Colab\"/></a>"
      ]
    },
    {
      "cell_type": "markdown",
      "source": [
        "## Linear Algebra\n",
        "\n",
        "As mentioned, Linear Algebra is very important in ML.  In this notebook, we'll cover (briefly) \n",
        "\n",
        "* Working with matrices and n dimensional arrays in numpy.\n",
        "\n",
        "* Solving the least squares (linear regression) problem directly\n",
        "\n",
        "* Advanced - completing Principal Components Analysis via SVD\n",
        "\n"
      ],
      "metadata": {
        "id": "OAu_OWN07DhZ"
      }
    },
    {
      "cell_type": "markdown",
      "source": [
        "## Working with matrices in numpy\n",
        "\n",
        "We'll be using the matrix class in numpy.  Numpy matrices are strictly 2D.  Numpy NDArrays are arbitrary.  When moving into higher dimensions that 2D (such as in deep learning) you will need to make the switch to NDArrays.  "
      ],
      "metadata": {
        "id": "yrmTb0IY7dof"
      }
    },
    {
      "cell_type": "markdown",
      "source": [
        "## scipy.linalg vs numpy.linalg\n",
        "\n",
        "`scipy.linalg` contains all the functions in `numpy.linalg`. plus some other more advanced ones not contained in `numpy.linalg`\n",
        "\n",
        "see https://docs.scipy.org/doc/scipy/reference/tutorial/linalg.html for more details"
      ],
      "metadata": {
        "id": "VQW-EPS67k7Z"
      }
    },
    {
      "cell_type": "markdown",
      "source": [
        "## Matrix Operations\n",
        "\n",
        "Below we'll demonstrate how to do some important operations necessary for regression from scracth, and we'll only highlight operations on matrices vs ndarrays when worth noting."
      ],
      "metadata": {
        "id": "mO6G5DZw7qx4"
      }
    },
    {
      "cell_type": "markdown",
      "source": [
        "## Creating a matrix"
      ],
      "metadata": {
        "id": "80L9oGno7vEn"
      }
    },
    {
      "cell_type": "code",
      "execution_count": 69,
      "metadata": {
        "id": "1RUyzKJa68h_"
      },
      "outputs": [],
      "source": [
        "import numpy as np\n",
        "import warnings\n",
        "warnings.filterwarnings('ignore')"
      ]
    },
    {
      "cell_type": "code",
      "source": [
        "x = np.matrix([[2,7,6],[9,5,1],[4,3,8]])\n",
        "print(type(x))\n",
        "print(x)\n",
        "# or\n",
        "x_ndarray = np.array([[2,7,6],[9,5,1],[4,3,8]])\n",
        "print(\"\\n{}\".format(type(x_ndarray)))\n",
        "print(x_ndarray)"
      ],
      "metadata": {
        "colab": {
          "base_uri": "https://localhost:8080/"
        },
        "id": "wDktfIth7y1j",
        "outputId": "d5b9fee7-3eb6-4a04-b7d7-23c873d25204"
      },
      "execution_count": 70,
      "outputs": [
        {
          "output_type": "stream",
          "name": "stdout",
          "text": [
            "<class 'numpy.matrix'>\n",
            "[[2 7 6]\n",
            " [9 5 1]\n",
            " [4 3 8]]\n",
            "\n",
            "<class 'numpy.ndarray'>\n",
            "[[2 7 6]\n",
            " [9 5 1]\n",
            " [4 3 8]]\n"
          ]
        }
      ]
    },
    {
      "cell_type": "markdown",
      "source": [
        "The [magic square](https://en.wikipedia.org/wiki/Magic_square) above (call it $X$) is composed of 3 rows and 3 columns.  We will index elements by the row and column in which they appear.  For example, the element $X_{1,2}$ is 7 and $X_{3,3} = 8$.  Note that we are starting indexing from 1 and not 0.  We will index starting from 0 in our code\n",
        "\n",
        "Generally, we will have a matrix $X$ of dimension $m \\times n$, that is, $m$ rows and $n$ columns.  We'll use the following notations to refer to entire columns and rows very succinctly,  $(:,j)$ and $(i,:)$ which means all elements in the $j^{th}$ column and all elements in the $i^{th}$ row, repsectively."
      ],
      "metadata": {
        "id": "7PhPUaD376FE"
      }
    },
    {
      "cell_type": "markdown",
      "source": [
        "### Transpose of a Matrix\n",
        "\n",
        "Very fundamental operation is transposition - this is switching the row index with the column index for each element.  "
      ],
      "metadata": {
        "id": "bIuYGp8a8JJY"
      }
    },
    {
      "cell_type": "code",
      "source": [
        "print(\"X\")\n",
        "print(x)\n",
        "print(\"\\nX'\")\n",
        "print(x.T)"
      ],
      "metadata": {
        "colab": {
          "base_uri": "https://localhost:8080/"
        },
        "id": "b1dJg1Od72ey",
        "outputId": "51bfd81e-5936-4789-969a-6acc697658b9"
      },
      "execution_count": 71,
      "outputs": [
        {
          "output_type": "stream",
          "name": "stdout",
          "text": [
            "X\n",
            "[[2 7 6]\n",
            " [9 5 1]\n",
            " [4 3 8]]\n",
            "\n",
            "X'\n",
            "[[2 9 4]\n",
            " [7 5 3]\n",
            " [6 1 8]]\n"
          ]
        }
      ]
    },
    {
      "cell_type": "markdown",
      "source": [
        "### Slicing a matrix\n",
        "\n",
        "Very often we'll be interested in a particular row or column or sub-matrix of a matrix."
      ],
      "metadata": {
        "id": "ZQR7GfJO8OFA"
      }
    },
    {
      "cell_type": "code",
      "source": [
        "# slicing\n",
        "# first row\n",
        "print(\"slicing a matrix\\n\")\n",
        "print(x[0,:])\n",
        "print(\"\\nshape of x[0,:] is {}\".format( x[0,:].shape))\n",
        "print(\"\\nvs slicing an ndarray\\n\")\n",
        "print(x_ndarray[0,:])\n",
        "print(\"\\nshape of x_ndarray[0:] is {}\".format(x_ndarray[0,:].shape))"
      ],
      "metadata": {
        "colab": {
          "base_uri": "https://localhost:8080/"
        },
        "id": "Pr53JfFn8Lwk",
        "outputId": "529774ff-caba-46bc-9784-723a31fec544"
      },
      "execution_count": 72,
      "outputs": [
        {
          "output_type": "stream",
          "name": "stdout",
          "text": [
            "slicing a matrix\n",
            "\n",
            "[[2 7 6]]\n",
            "\n",
            "shape of x[0,:] is (1, 3)\n",
            "\n",
            "vs slicing an ndarray\n",
            "\n",
            "[2 7 6]\n",
            "\n",
            "shape of x_ndarray[0:] is (3,)\n"
          ]
        }
      ]
    },
    {
      "cell_type": "code",
      "source": [
        "# slicing\n",
        "# first column\n",
        "print(\"slicing a matrix\\n\")\n",
        "print(x[:,0])\n",
        "print(\"\\nshape of x[:,0] is {}\".format( x[0,:].shape))\n",
        "print(\"\\nvs slicing an ndarray\\n\")\n",
        "print(x_ndarray[:,0])\n",
        "print(\"\\nshape of x_ndarray[:,0] is {}\".format(x_ndarray[0,:].shape))"
      ],
      "metadata": {
        "colab": {
          "base_uri": "https://localhost:8080/"
        },
        "id": "2OGBkXJP8P9l",
        "outputId": "3c66cf7b-6239-4987-8dc1-c5ad7bd0bcd2"
      },
      "execution_count": 73,
      "outputs": [
        {
          "output_type": "stream",
          "name": "stdout",
          "text": [
            "slicing a matrix\n",
            "\n",
            "[[2]\n",
            " [9]\n",
            " [4]]\n",
            "\n",
            "shape of x[:,0] is (1, 3)\n",
            "\n",
            "vs slicing an ndarray\n",
            "\n",
            "[2 9 4]\n",
            "\n",
            "shape of x_ndarray[:,0] is (3,)\n"
          ]
        }
      ]
    },
    {
      "cell_type": "code",
      "source": [
        "# slicing \n",
        "# top 2x2 matrix\n",
        "print(x[0:2,0:2])\n"
      ],
      "metadata": {
        "colab": {
          "base_uri": "https://localhost:8080/"
        },
        "id": "jpltO4-e8XXA",
        "outputId": "40ffb462-3e22-4146-b8d0-c44142e7c769"
      },
      "execution_count": 74,
      "outputs": [
        {
          "output_type": "stream",
          "name": "stdout",
          "text": [
            "[[2 7]\n",
            " [9 5]]\n"
          ]
        }
      ]
    },
    {
      "cell_type": "markdown",
      "source": [
        "### Vectors\n",
        "\n",
        "A vector is an array of numbers.  You could think of each row or each column of a matrix as a vector.  If $x$ is a vector of length $N$ we write $x \\in \\mathbb{R}^N$.  This is a succinct way to write a n-dimensional space where each dimension is represented by a real number ($\\mathbb{R}$ means the set of real numbers))\n",
        "\n",
        "### Dot Product\n",
        "\n",
        "Given two vectors $x,y$ in $\\mathbb{R}^n$, the dot product (or inner product) of $x$ and $y$, written $x\\cdot y$ or sometimes $\\left<x,y\\right>$ is defined as \n",
        "$$\\left<x,y\\right> = \\sum_{i=1}^n x_i y_i$$\n",
        "\n",
        "For $x = y$, the square root of the dot product is called the $L_2$ norm or Euclidean norm and may be written $\\|x\\|_2$.    \n",
        "If $x$ sums to zero ($x$ is centered), then $\\|x\\|_2^2$  divided by the length of $x$ minus 1 is the sample variance.  \n",
        "\n",
        "## Inner product and correlation coefficient.  \n",
        "\n",
        "For any two vectors $x,y \\in \\mathbb{R}^N$, we have \n",
        "\n",
        "$$\\cos(\\theta) = \\frac{x\\cdot y}{\\|x\\|\\|y\\|}$$\n",
        "\n",
        "where $\\theta$ is the angle between $x$ and $y$.  If $x$ and $y$ both sum to 0 then $\\cos(\\theta)$ is the correlation between $x$ and $y$.  Why?  because $\\left<x,y\\right>$ is the sample covariance and $\\|x\\|, \\|y\\|$ are the sample standard deviations of $x$ and $y$ respectively.\n",
        "\n",
        "\n",
        "### Matrix Multiplication \n",
        "\n",
        "See https://en.wikipedia.org/wiki/Matrix_multiplication#Examples_of_matrix_products for more details.  \n",
        "\n",
        "If $A$ is $m \\times n$ and $B$ is $n \\times p$, then the product $C = AB$ is $m \\times p$ and the \n",
        "\n",
        "$i,j$ element of $C$ is defined as \n",
        "\n",
        "$$C_{i,j} = A_{i,:} \\cdot B_{:,j} = \\sum_{k=1}^n A_{i,k}B_{k,j}$$\n",
        "\n",
        "Or we could say that the $i,j$ element of $C$ is the dot product of the $i^{th}$ row of $A$ and the $j^{th}$ column of $B$. \n",
        "\n",
        "__Note__ matrix multiplication does not necessarily commute.  Also, the number of columns in the first matrix must be equal to the number of rows in the second matrix.  \n",
        "\n",
        "More concrete example: matrix multiplication between a matrix $X$ and a column vector $\\beta$.  \n",
        "\n",
        "If $$X = \\begin{pmatrix}\n",
        "x_{1,1} & x_{1,2} & x_{1,3} \\\\\n",
        "x_{2,1} & x_{2,2} & x_{2,3} \\\\\n",
        "x_{3,1} & x_{3,2} & x_{3,3}\n",
        "\\end{pmatrix} \\text{ and } \\beta = \\begin{pmatrix}\n",
        "b_1 \\\\\n",
        "b_2 \\\\\n",
        "b_3\n",
        "\\end{pmatrix}$$, then \n",
        "\n",
        "\n",
        "$$X\\beta = \\begin{pmatrix}\n",
        "x_{1,1} & x_{1,2} & x_{1,3} \\\\\n",
        "x_{2,1} & x_{2,2} & x_{2,3} \\\\\n",
        "x_{3,1} & x_{3,2} & x_{3,3}\n",
        "\\end{pmatrix} \\begin{pmatrix}\n",
        "b_1 \\\\\n",
        "b_2 \\\\\n",
        "b_3\n",
        "\\end{pmatrix} =\\begin{pmatrix}\n",
        "x_{1,1}b_1 + x_{1,2}b_2 + x_{1,3}b_3 \\\\\n",
        "x_{2,1}b_1 + x_{2,2}b_2 + x_{2,3}b_3 \\\\\n",
        "x_{3,1}b_1 + x_{3,2}b_2 + x_{3,3}b_3\n",
        "\\end{pmatrix}$$\n",
        "\n"
      ],
      "metadata": {
        "id": "vlKX2IWl8c2E"
      }
    },
    {
      "cell_type": "code",
      "source": [
        "# dot product\n",
        "z = np.array([1,2,3])\n",
        "z.dot(z)"
      ],
      "metadata": {
        "colab": {
          "base_uri": "https://localhost:8080/"
        },
        "id": "a8GgZFrk8Z2t",
        "outputId": "8b40de64-7ad0-482c-9c5a-039d265fe991"
      },
      "execution_count": 75,
      "outputs": [
        {
          "output_type": "execute_result",
          "data": {
            "text/plain": [
              "14"
            ]
          },
          "metadata": {},
          "execution_count": 75
        }
      ]
    },
    {
      "cell_type": "code",
      "source": [
        "# matrix multiply\n",
        "print(x @ x)\n",
        "\n",
        "# same as \n",
        "y = np.zeros([3,3])\n",
        "for i in range(x.shape[0]):\n",
        "    for j in range(x.shape[1]):\n",
        "        y[i][j] = x[i,:].dot(x[:,j])\n",
        "print()\n",
        "print(y)"
      ],
      "metadata": {
        "colab": {
          "base_uri": "https://localhost:8080/"
        },
        "id": "O9VEJgd48j90",
        "outputId": "78fdfc9e-431c-4468-e444-85d839e7db9a"
      },
      "execution_count": 76,
      "outputs": [
        {
          "output_type": "stream",
          "name": "stdout",
          "text": [
            "[[91 67 67]\n",
            " [67 91 67]\n",
            " [67 67 91]]\n",
            "\n",
            "[[91. 67. 67.]\n",
            " [67. 91. 67.]\n",
            " [67. 67. 91.]]\n"
          ]
        }
      ]
    },
    {
      "cell_type": "markdown",
      "source": [
        "### Hadamard Product\n",
        "\n",
        "For two matrices $A$ and $B$ the Hadamard Product, written $A \\odot B$, is element wise multiplicate, thus dimensin of $A$ must equal dimension of $B$.  We won't encounter this operator now, but it will be very common in the training of neural networks"
      ],
      "metadata": {
        "id": "E_1dUrV88u_i"
      }
    },
    {
      "cell_type": "code",
      "source": [
        "# hadamard product -- element-wise multiplication\n",
        "print(x)\n",
        "print(\"\\n\")\n",
        "print(np.multiply(x,x))"
      ],
      "metadata": {
        "colab": {
          "base_uri": "https://localhost:8080/"
        },
        "id": "_3H8utwW8psV",
        "outputId": "b4ec76b3-eb82-47a4-bbaf-111986eb3023"
      },
      "execution_count": 77,
      "outputs": [
        {
          "output_type": "stream",
          "name": "stdout",
          "text": [
            "[[2 7 6]\n",
            " [9 5 1]\n",
            " [4 3 8]]\n",
            "\n",
            "\n",
            "[[ 4 49 36]\n",
            " [81 25  1]\n",
            " [16  9 64]]\n"
          ]
        }
      ]
    },
    {
      "cell_type": "markdown",
      "source": [
        "### Identity Matrices and Matrix Inversion"
      ],
      "metadata": {
        "id": "2k2XIr0I844m"
      }
    },
    {
      "cell_type": "code",
      "source": [
        "# identity matrix\n",
        "I = np.eye(3)\n",
        "\n",
        "print(\"3x3 Identity matrix\\n\", I, \"\\n\")\n",
        "print(\"x*I\\n\",x * I,\"\\n\")\n",
        "print(\"I*x\\n\",I * x)"
      ],
      "metadata": {
        "colab": {
          "base_uri": "https://localhost:8080/"
        },
        "id": "LPbxGTmo8xnJ",
        "outputId": "548fdc0c-bf0e-4d6e-856b-e4428a257d9a"
      },
      "execution_count": 78,
      "outputs": [
        {
          "output_type": "stream",
          "name": "stdout",
          "text": [
            "3x3 Identity matrix\n",
            " [[1. 0. 0.]\n",
            " [0. 1. 0.]\n",
            " [0. 0. 1.]] \n",
            "\n",
            "x*I\n",
            " [[2. 7. 6.]\n",
            " [9. 5. 1.]\n",
            " [4. 3. 8.]] \n",
            "\n",
            "I*x\n",
            " [[2. 7. 6.]\n",
            " [9. 5. 1.]\n",
            " [4. 3. 8.]]\n"
          ]
        }
      ]
    },
    {
      "cell_type": "code",
      "source": [
        "# inverting a square matrix\n",
        "print(\"x^{-1}\\n\",np.linalg.inv(x),\"\\n\")\n",
        "print(\"x*x^{-1}\\n\", np.round(x*np.linalg.inv(x),2),\"\\n\")\n",
        "print(\"x^{-1}*x\\n\", np.round(np.linalg.inv(x)*x,2))"
      ],
      "metadata": {
        "colab": {
          "base_uri": "https://localhost:8080/"
        },
        "id": "VnnWNSiO866-",
        "outputId": "9b4e4e9a-4775-4f44-9079-2c841e5e985e"
      },
      "execution_count": 79,
      "outputs": [
        {
          "output_type": "stream",
          "name": "stdout",
          "text": [
            "x^{-1}\n",
            " [[-0.10277778  0.10555556  0.06388889]\n",
            " [ 0.18888889  0.02222222 -0.14444444]\n",
            " [-0.01944444 -0.06111111  0.14722222]] \n",
            "\n",
            "x*x^{-1}\n",
            " [[ 1. -0.  0.]\n",
            " [ 0.  1. -0.]\n",
            " [ 0. -0.  1.]] \n",
            "\n",
            "x^{-1}*x\n",
            " [[ 1.  0.  0.]\n",
            " [ 0.  1. -0.]\n",
            " [ 0.  0.  1.]]\n"
          ]
        }
      ]
    },
    {
      "cell_type": "code",
      "source": [
        "# inverting a non-square matrix via pseudo inverse https://en.wikipedia.org/wiki/Moore%E2%80%93Penrose_inverse#Definition\n",
        "a = np.random.rand(10, 5)\n",
        "B = np.linalg.pinv(a)\n",
        "np.round(B @ a, 3)\n"
      ],
      "metadata": {
        "colab": {
          "base_uri": "https://localhost:8080/"
        },
        "id": "nmuMWv-fPkbk",
        "outputId": "2189f7a3-b1ad-4927-fb29-3b2e60e20b33"
      },
      "execution_count": 80,
      "outputs": [
        {
          "output_type": "execute_result",
          "data": {
            "text/plain": [
              "array([[ 1.,  0.,  0.,  0.,  0.],\n",
              "       [ 0.,  1., -0.,  0., -0.],\n",
              "       [ 0.,  0.,  1., -0., -0.],\n",
              "       [-0., -0.,  0.,  1., -0.],\n",
              "       [-0., -0., -0., -0.,  1.]])"
            ]
          },
          "metadata": {},
          "execution_count": 80
        }
      ]
    },
    {
      "cell_type": "markdown",
      "source": [
        "## Other useful operations\n",
        "\n"
      ],
      "metadata": {
        "id": "trhCtAW19DLu"
      }
    },
    {
      "cell_type": "code",
      "source": [
        "# multiplication by scalar\n",
        "p = 1/15 * x\n",
        "p"
      ],
      "metadata": {
        "colab": {
          "base_uri": "https://localhost:8080/"
        },
        "id": "f9_OuaTl8-lb",
        "outputId": "ca20f1e4-2635-4ced-fd4a-33dce15b088c"
      },
      "execution_count": 81,
      "outputs": [
        {
          "output_type": "execute_result",
          "data": {
            "text/plain": [
              "matrix([[0.13333333, 0.46666667, 0.4       ],\n",
              "        [0.6       , 0.33333333, 0.06666667],\n",
              "        [0.26666667, 0.2       , 0.53333333]])"
            ]
          },
          "metadata": {},
          "execution_count": 81
        }
      ]
    },
    {
      "cell_type": "code",
      "source": [
        "# sum columns\n",
        "print( p.sum(axis=0))\n",
        "print()\n",
        "# sum rows \n",
        "print( p.sum(axis=1))"
      ],
      "metadata": {
        "colab": {
          "base_uri": "https://localhost:8080/"
        },
        "id": "Ed_w-YPn9Fex",
        "outputId": "d7496d3e-b697-4916-f258-daf40733af09"
      },
      "execution_count": 82,
      "outputs": [
        {
          "output_type": "stream",
          "name": "stdout",
          "text": [
            "[[1. 1. 1.]]\n",
            "\n",
            "[[1.]\n",
            " [1.]\n",
            " [1.]]\n"
          ]
        }
      ]
    },
    {
      "cell_type": "code",
      "source": [
        "# mean and standard deviation of columns\n",
        "print( x.mean(axis=0), x.std(axis=0))\n",
        "# mean of rows - just set axis=1"
      ],
      "metadata": {
        "colab": {
          "base_uri": "https://localhost:8080/"
        },
        "id": "V5U5g_AN9HOq",
        "outputId": "ed519750-669c-4cb0-f35a-d6faeb5a5c43"
      },
      "execution_count": 83,
      "outputs": [
        {
          "output_type": "stream",
          "name": "stdout",
          "text": [
            "[[5. 5. 5.]] [[2.94392029 1.63299316 2.94392029]]\n"
          ]
        }
      ]
    },
    {
      "cell_type": "code",
      "source": [
        "## numpy funtions act element-wise on matrices and arrays\n",
        "np.exp(p)"
      ],
      "metadata": {
        "colab": {
          "base_uri": "https://localhost:8080/"
        },
        "id": "KOllQa_A9JaE",
        "outputId": "0264afca-76cb-4981-a319-19466f2089cd"
      },
      "execution_count": 84,
      "outputs": [
        {
          "output_type": "execute_result",
          "data": {
            "text/plain": [
              "matrix([[1.14263081, 1.59466976, 1.4918247 ],\n",
              "        [1.8221188 , 1.39561243, 1.06893911],\n",
              "        [1.30560517, 1.22140276, 1.70460487]])"
            ]
          },
          "metadata": {},
          "execution_count": 84
        }
      ]
    },
    {
      "cell_type": "code",
      "source": [
        "## for functions of matrices look into scipy.linalg, e.g., exponetial of matrix\n",
        "from scipy.linalg import expm\n",
        "print(expm(p))"
      ],
      "metadata": {
        "colab": {
          "base_uri": "https://localhost:8080/"
        },
        "id": "tFkG2tks9MHI",
        "outputId": "4a97ceeb-86ab-4c5f-85e1-4f1f8b1dd066"
      },
      "execution_count": 85,
      "outputs": [
        {
          "output_type": "stream",
          "name": "stdout",
          "text": [
            "[[1.40505877 0.69054062 0.62268243]\n",
            " [0.826257   1.60863334 0.28339149]\n",
            " [0.48696606 0.41910787 1.81220791]]\n"
          ]
        }
      ]
    },
    {
      "cell_type": "code",
      "source": [
        "## powers of a matrix\n",
        "from math import factorial as f\n",
        "\n",
        "#np.eye(3) + p + 1/2*p*p + 1/6*p*p*p + 1/24*p*p*p*p + 1/120*p*p*p*p*p + ....\n",
        "e = np.eye(3)\n",
        "for i in range(1,10):\n",
        "    e += 1/f(i)*np.linalg.matrix_power(p,i)\n",
        "print(e)\n",
        "print(\"\\n\",np.linalg.norm(e - expm(p)))"
      ],
      "metadata": {
        "colab": {
          "base_uri": "https://localhost:8080/"
        },
        "id": "EnJqhErL9Ovb",
        "outputId": "9df210a3-410d-42bf-eadd-c43a693c67e2"
      },
      "execution_count": 86,
      "outputs": [
        {
          "output_type": "stream",
          "name": "stdout",
          "text": [
            "[[1.40505867 0.69054052 0.62268233]\n",
            " [0.8262569  1.60863324 0.28339139]\n",
            " [0.48696595 0.41910777 1.81220781]]\n",
            "\n",
            " 3.028858527985199e-07\n"
          ]
        }
      ]
    },
    {
      "cell_type": "code",
      "source": [
        "# matrix of ones\n",
        "bias = np.matrix(np.ones([3,1]))\n",
        "# joining the matrix of ones with our matrix x1 from above\n",
        "# very common for regression problems\n",
        "x2 = np.concatenate( [bias, x],axis=1)\n",
        "print(x2)\n",
        "print()\n",
        "# to append the bias as a row, we'll do the following\n",
        "x3 = np.concatenate( [x2, np.ones([1,4])],axis=0)\n",
        "print(x3)"
      ],
      "metadata": {
        "colab": {
          "base_uri": "https://localhost:8080/"
        },
        "id": "u15n8_Yb9Qr6",
        "outputId": "280e232b-81a6-4ebe-8fe2-91f366009ed0"
      },
      "execution_count": 87,
      "outputs": [
        {
          "output_type": "stream",
          "name": "stdout",
          "text": [
            "[[1. 2. 7. 6.]\n",
            " [1. 9. 5. 1.]\n",
            " [1. 4. 3. 8.]]\n",
            "\n",
            "[[1. 2. 7. 6.]\n",
            " [1. 9. 5. 1.]\n",
            " [1. 4. 3. 8.]\n",
            " [1. 1. 1. 1.]]\n"
          ]
        }
      ]
    },
    {
      "cell_type": "markdown",
      "source": [
        "A very conventient method for adding in bias to a regression model is through statsmodels via `statsmodels.api.add_constant`.  We'll see this in action later"
      ],
      "metadata": {
        "id": "P66Be5rc9bCB"
      }
    },
    {
      "cell_type": "markdown",
      "source": [
        "Demonstrate similar operations on nd arrays\n"
      ],
      "metadata": {
        "id": "7y_0wAcI9ecB"
      }
    },
    {
      "cell_type": "code",
      "source": [
        "x = np.array([[2,7,6],[9,5,1],[4,3,8]])\n",
        "\n",
        "print(\"Hadamard product X \\odot X\")\n",
        "print(x*x) # if x were a matrix, this would be matrix mulitply\n",
        "print(\"matrix multiply X'X using np.dot\")\n",
        "print( np.dot(x.T,x))\n",
        "print(\"matrix multiply X'X using np.matmul\")\n",
        "print( np.matmul(x.T, x))\n",
        "print(\"matrix multiply X'X using @\")\n",
        "print( x.T @ x)"
      ],
      "metadata": {
        "colab": {
          "base_uri": "https://localhost:8080/"
        },
        "id": "wBXfoT0G9VKX",
        "outputId": "f3bbacb8-e31a-4750-d36b-9e1af65f8589"
      },
      "execution_count": 136,
      "outputs": [
        {
          "output_type": "stream",
          "name": "stdout",
          "text": [
            "Hadamard product X \\odot X\n",
            "[[ 4 49 36]\n",
            " [81 25  1]\n",
            " [16  9 64]]\n",
            "matrix multiply X'X using np.dot\n",
            "[[101  71  53]\n",
            " [ 71  83  71]\n",
            " [ 53  71 101]]\n",
            "matrix multiply X'X using np.matmul\n",
            "[[101  71  53]\n",
            " [ 71  83  71]\n",
            " [ 53  71 101]]\n",
            "matrix multiply X'X using @\n",
            "[[101  71  53]\n",
            " [ 71  83  71]\n",
            " [ 53  71 101]]\n"
          ]
        }
      ]
    },
    {
      "cell_type": "code",
      "source": [
        "# mean of rows\n",
        "x2.mean(axis=1)"
      ],
      "metadata": {
        "colab": {
          "base_uri": "https://localhost:8080/"
        },
        "id": "6chMyDPK9gYj",
        "outputId": "4cb6726f-bf39-4185-bb55-346f5d1d4596"
      },
      "execution_count": 89,
      "outputs": [
        {
          "output_type": "execute_result",
          "data": {
            "text/plain": [
              "matrix([[4.],\n",
              "        [4.],\n",
              "        [4.]])"
            ]
          },
          "metadata": {},
          "execution_count": 89
        }
      ]
    },
    {
      "cell_type": "code",
      "source": [
        "# mean of each column\n",
        "x2.mean(axis=0)"
      ],
      "metadata": {
        "colab": {
          "base_uri": "https://localhost:8080/"
        },
        "id": "X94UbViJ9k_-",
        "outputId": "3bbc3d66-f5c8-4476-ebd7-99bacb434933"
      },
      "execution_count": 90,
      "outputs": [
        {
          "output_type": "execute_result",
          "data": {
            "text/plain": [
              "matrix([[1., 5., 5., 5.]])"
            ]
          },
          "metadata": {},
          "execution_count": 90
        }
      ]
    },
    {
      "cell_type": "code",
      "source": [
        "## going to calculate a matrix of means so that we can normalize data\n",
        "np.multiply(x2.mean(axis=0),np.ones([3,4]))\n",
        "# again, prefer statsmodels.api.add_constant"
      ],
      "metadata": {
        "colab": {
          "base_uri": "https://localhost:8080/"
        },
        "id": "AfLiPf8V9nMp",
        "outputId": "1d6c6ead-9ebc-48cf-d3a5-83fdd6d0a03b"
      },
      "execution_count": 91,
      "outputs": [
        {
          "output_type": "execute_result",
          "data": {
            "text/plain": [
              "matrix([[1., 5., 5., 5.],\n",
              "        [1., 5., 5., 5.],\n",
              "        [1., 5., 5., 5.]])"
            ]
          },
          "metadata": {},
          "execution_count": 91
        }
      ]
    },
    {
      "cell_type": "code",
      "source": [
        "## calc covariance and correlation matrix\n",
        "\n",
        "## center each column of the matrix \n",
        "z = np.matrix(x2 - np.multiply(x2.mean(axis=0),np.ones([3,4])))\n",
        "print(z.mean(axis=0))\n",
        "\n",
        "sig = np.sqrt(np.diag(np.diag(z.T*z)))\n",
        "## calculate the standard deviation of each column \n",
        "## the standard deviations will be on the diagonal of the matrix sig\n",
        "## and there are zeros elsewhere\n",
        "print(\"\\n\",sig)\n",
        "\n",
        "print(\"\\ncovariance matrix\")\n",
        "print(z.T*z / (z.shape[0] - 1))\n",
        "print()\n",
        "print(\"correlation matrix\")\n",
        "print(np.linalg.pinv(sig)*(z.T*z)*np.linalg.pinv(sig))\n",
        "## since the generalized inverse was used the first row and column are 0 instead of nan\n",
        "\n",
        "print(\"\\nvs numpy.corrcoef\")\n",
        "print(np.corrcoef(x2.T))"
      ],
      "metadata": {
        "colab": {
          "base_uri": "https://localhost:8080/"
        },
        "id": "ozJf3_fB9s4m",
        "outputId": "331a5cfe-2e8c-4fe8-aad7-e642c0af832b"
      },
      "execution_count": 92,
      "outputs": [
        {
          "output_type": "stream",
          "name": "stdout",
          "text": [
            "[[0. 0. 0. 0.]]\n",
            "\n",
            " [[0.         0.         0.         0.        ]\n",
            " [0.         5.09901951 0.         0.        ]\n",
            " [0.         0.         2.82842712 0.        ]\n",
            " [0.         0.         0.         5.09901951]]\n",
            "\n",
            "covariance matrix\n",
            "[[  0.   0.   0.   0.]\n",
            " [  0.  13.  -2. -11.]\n",
            " [  0.  -2.   4.  -2.]\n",
            " [  0. -11.  -2.  13.]]\n",
            "\n",
            "correlation matrix\n",
            "[[ 0.          0.          0.          0.        ]\n",
            " [ 0.          1.         -0.2773501  -0.84615385]\n",
            " [ 0.         -0.2773501   1.         -0.2773501 ]\n",
            " [ 0.         -0.84615385 -0.2773501   1.        ]]\n",
            "\n",
            "vs numpy.corrcoef\n",
            "[[        nan         nan         nan         nan]\n",
            " [        nan  1.         -0.2773501  -0.84615385]\n",
            " [        nan -0.2773501   1.         -0.2773501 ]\n",
            " [        nan -0.84615385 -0.2773501   1.        ]]\n"
          ]
        }
      ]
    },
    {
      "cell_type": "markdown",
      "source": [
        "## Load Data"
      ],
      "metadata": {
        "id": "6TGIlqHr92Ry"
      }
    },
    {
      "cell_type": "code",
      "source": [
        "import pandas as pd\n",
        "from pandas import DataFrame\n",
        "import seaborn as sns\n",
        "from sklearn.datasets import make_circles, load_diabetes\n",
        "from sklearn.model_selection import train_test_split\n",
        "## useful function from statsmodels\n",
        "import statsmodels.api as sma\n",
        "## add_constant will check the rank of your matrix prior to adding a column on 1s."
      ],
      "metadata": {
        "id": "AToQrr9n9v6I"
      },
      "execution_count": 93,
      "outputs": []
    },
    {
      "cell_type": "code",
      "source": [
        "lin_reg_data = load_diabetes(return_X_y = False)"
      ],
      "metadata": {
        "id": "f8KUCLAm95Gy"
      },
      "execution_count": 94,
      "outputs": []
    },
    {
      "cell_type": "code",
      "source": [
        "X = DataFrame(lin_reg_data.data, columns=lin_reg_data.feature_names)\n",
        "y = DataFrame(lin_reg_data.target, columns = [\"target\"])\n",
        "tdf = y.join(X, how=\"inner\")\n"
      ],
      "metadata": {
        "id": "ZGDXeaka-aX3"
      },
      "execution_count": 97,
      "outputs": []
    },
    {
      "cell_type": "code",
      "source": [
        "# sns.pairplot(tdf)"
      ],
      "metadata": {
        "id": "0LOAdIud-pxa"
      },
      "execution_count": 98,
      "outputs": []
    },
    {
      "cell_type": "code",
      "source": [
        "X = np.matrix(X)\n",
        "y = np.matrix(y)"
      ],
      "metadata": {
        "id": "uEc7M9hi-snc"
      },
      "execution_count": 99,
      "outputs": []
    },
    {
      "cell_type": "code",
      "source": [
        "tdf.head()"
      ],
      "metadata": {
        "colab": {
          "base_uri": "https://localhost:8080/",
          "height": 206
        },
        "id": "OVOxpMFk-zz4",
        "outputId": "e5030194-4075-420a-b3fa-02b62fe2da96"
      },
      "execution_count": 100,
      "outputs": [
        {
          "output_type": "execute_result",
          "data": {
            "text/plain": [
              "   target       age       sex       bmi        bp        s1        s2  \\\n",
              "0   151.0  0.038076  0.050680  0.061696  0.021872 -0.044223 -0.034821   \n",
              "1    75.0 -0.001882 -0.044642 -0.051474 -0.026328 -0.008449 -0.019163   \n",
              "2   141.0  0.085299  0.050680  0.044451 -0.005671 -0.045599 -0.034194   \n",
              "3   206.0 -0.089063 -0.044642 -0.011595 -0.036656  0.012191  0.024991   \n",
              "4   135.0  0.005383 -0.044642 -0.036385  0.021872  0.003935  0.015596   \n",
              "\n",
              "         s3        s4        s5        s6  \n",
              "0 -0.043401 -0.002592  0.019908 -0.017646  \n",
              "1  0.074412 -0.039493 -0.068330 -0.092204  \n",
              "2 -0.032356 -0.002592  0.002864 -0.025930  \n",
              "3 -0.036038  0.034309  0.022692 -0.009362  \n",
              "4  0.008142 -0.002592 -0.031991 -0.046641  "
            ],
            "text/html": [
              "\n",
              "  <div id=\"df-48e2b7b2-b1f3-492c-85f0-676baa88f912\">\n",
              "    <div class=\"colab-df-container\">\n",
              "      <div>\n",
              "<style scoped>\n",
              "    .dataframe tbody tr th:only-of-type {\n",
              "        vertical-align: middle;\n",
              "    }\n",
              "\n",
              "    .dataframe tbody tr th {\n",
              "        vertical-align: top;\n",
              "    }\n",
              "\n",
              "    .dataframe thead th {\n",
              "        text-align: right;\n",
              "    }\n",
              "</style>\n",
              "<table border=\"1\" class=\"dataframe\">\n",
              "  <thead>\n",
              "    <tr style=\"text-align: right;\">\n",
              "      <th></th>\n",
              "      <th>target</th>\n",
              "      <th>age</th>\n",
              "      <th>sex</th>\n",
              "      <th>bmi</th>\n",
              "      <th>bp</th>\n",
              "      <th>s1</th>\n",
              "      <th>s2</th>\n",
              "      <th>s3</th>\n",
              "      <th>s4</th>\n",
              "      <th>s5</th>\n",
              "      <th>s6</th>\n",
              "    </tr>\n",
              "  </thead>\n",
              "  <tbody>\n",
              "    <tr>\n",
              "      <th>0</th>\n",
              "      <td>151.0</td>\n",
              "      <td>0.038076</td>\n",
              "      <td>0.050680</td>\n",
              "      <td>0.061696</td>\n",
              "      <td>0.021872</td>\n",
              "      <td>-0.044223</td>\n",
              "      <td>-0.034821</td>\n",
              "      <td>-0.043401</td>\n",
              "      <td>-0.002592</td>\n",
              "      <td>0.019908</td>\n",
              "      <td>-0.017646</td>\n",
              "    </tr>\n",
              "    <tr>\n",
              "      <th>1</th>\n",
              "      <td>75.0</td>\n",
              "      <td>-0.001882</td>\n",
              "      <td>-0.044642</td>\n",
              "      <td>-0.051474</td>\n",
              "      <td>-0.026328</td>\n",
              "      <td>-0.008449</td>\n",
              "      <td>-0.019163</td>\n",
              "      <td>0.074412</td>\n",
              "      <td>-0.039493</td>\n",
              "      <td>-0.068330</td>\n",
              "      <td>-0.092204</td>\n",
              "    </tr>\n",
              "    <tr>\n",
              "      <th>2</th>\n",
              "      <td>141.0</td>\n",
              "      <td>0.085299</td>\n",
              "      <td>0.050680</td>\n",
              "      <td>0.044451</td>\n",
              "      <td>-0.005671</td>\n",
              "      <td>-0.045599</td>\n",
              "      <td>-0.034194</td>\n",
              "      <td>-0.032356</td>\n",
              "      <td>-0.002592</td>\n",
              "      <td>0.002864</td>\n",
              "      <td>-0.025930</td>\n",
              "    </tr>\n",
              "    <tr>\n",
              "      <th>3</th>\n",
              "      <td>206.0</td>\n",
              "      <td>-0.089063</td>\n",
              "      <td>-0.044642</td>\n",
              "      <td>-0.011595</td>\n",
              "      <td>-0.036656</td>\n",
              "      <td>0.012191</td>\n",
              "      <td>0.024991</td>\n",
              "      <td>-0.036038</td>\n",
              "      <td>0.034309</td>\n",
              "      <td>0.022692</td>\n",
              "      <td>-0.009362</td>\n",
              "    </tr>\n",
              "    <tr>\n",
              "      <th>4</th>\n",
              "      <td>135.0</td>\n",
              "      <td>0.005383</td>\n",
              "      <td>-0.044642</td>\n",
              "      <td>-0.036385</td>\n",
              "      <td>0.021872</td>\n",
              "      <td>0.003935</td>\n",
              "      <td>0.015596</td>\n",
              "      <td>0.008142</td>\n",
              "      <td>-0.002592</td>\n",
              "      <td>-0.031991</td>\n",
              "      <td>-0.046641</td>\n",
              "    </tr>\n",
              "  </tbody>\n",
              "</table>\n",
              "</div>\n",
              "      <button class=\"colab-df-convert\" onclick=\"convertToInteractive('df-48e2b7b2-b1f3-492c-85f0-676baa88f912')\"\n",
              "              title=\"Convert this dataframe to an interactive table.\"\n",
              "              style=\"display:none;\">\n",
              "        \n",
              "  <svg xmlns=\"http://www.w3.org/2000/svg\" height=\"24px\"viewBox=\"0 0 24 24\"\n",
              "       width=\"24px\">\n",
              "    <path d=\"M0 0h24v24H0V0z\" fill=\"none\"/>\n",
              "    <path d=\"M18.56 5.44l.94 2.06.94-2.06 2.06-.94-2.06-.94-.94-2.06-.94 2.06-2.06.94zm-11 1L8.5 8.5l.94-2.06 2.06-.94-2.06-.94L8.5 2.5l-.94 2.06-2.06.94zm10 10l.94 2.06.94-2.06 2.06-.94-2.06-.94-.94-2.06-.94 2.06-2.06.94z\"/><path d=\"M17.41 7.96l-1.37-1.37c-.4-.4-.92-.59-1.43-.59-.52 0-1.04.2-1.43.59L10.3 9.45l-7.72 7.72c-.78.78-.78 2.05 0 2.83L4 21.41c.39.39.9.59 1.41.59.51 0 1.02-.2 1.41-.59l7.78-7.78 2.81-2.81c.8-.78.8-2.07 0-2.86zM5.41 20L4 18.59l7.72-7.72 1.47 1.35L5.41 20z\"/>\n",
              "  </svg>\n",
              "      </button>\n",
              "      \n",
              "  <style>\n",
              "    .colab-df-container {\n",
              "      display:flex;\n",
              "      flex-wrap:wrap;\n",
              "      gap: 12px;\n",
              "    }\n",
              "\n",
              "    .colab-df-convert {\n",
              "      background-color: #E8F0FE;\n",
              "      border: none;\n",
              "      border-radius: 50%;\n",
              "      cursor: pointer;\n",
              "      display: none;\n",
              "      fill: #1967D2;\n",
              "      height: 32px;\n",
              "      padding: 0 0 0 0;\n",
              "      width: 32px;\n",
              "    }\n",
              "\n",
              "    .colab-df-convert:hover {\n",
              "      background-color: #E2EBFA;\n",
              "      box-shadow: 0px 1px 2px rgba(60, 64, 67, 0.3), 0px 1px 3px 1px rgba(60, 64, 67, 0.15);\n",
              "      fill: #174EA6;\n",
              "    }\n",
              "\n",
              "    [theme=dark] .colab-df-convert {\n",
              "      background-color: #3B4455;\n",
              "      fill: #D2E3FC;\n",
              "    }\n",
              "\n",
              "    [theme=dark] .colab-df-convert:hover {\n",
              "      background-color: #434B5C;\n",
              "      box-shadow: 0px 1px 3px 1px rgba(0, 0, 0, 0.15);\n",
              "      filter: drop-shadow(0px 1px 2px rgba(0, 0, 0, 0.3));\n",
              "      fill: #FFFFFF;\n",
              "    }\n",
              "  </style>\n",
              "\n",
              "      <script>\n",
              "        const buttonEl =\n",
              "          document.querySelector('#df-48e2b7b2-b1f3-492c-85f0-676baa88f912 button.colab-df-convert');\n",
              "        buttonEl.style.display =\n",
              "          google.colab.kernel.accessAllowed ? 'block' : 'none';\n",
              "\n",
              "        async function convertToInteractive(key) {\n",
              "          const element = document.querySelector('#df-48e2b7b2-b1f3-492c-85f0-676baa88f912');\n",
              "          const dataTable =\n",
              "            await google.colab.kernel.invokeFunction('convertToInteractive',\n",
              "                                                     [key], {});\n",
              "          if (!dataTable) return;\n",
              "\n",
              "          const docLinkHtml = 'Like what you see? Visit the ' +\n",
              "            '<a target=\"_blank\" href=https://colab.research.google.com/notebooks/data_table.ipynb>data table notebook</a>'\n",
              "            + ' to learn more about interactive tables.';\n",
              "          element.innerHTML = '';\n",
              "          dataTable['output_type'] = 'display_data';\n",
              "          await google.colab.output.renderOutput(dataTable, element);\n",
              "          const docLink = document.createElement('div');\n",
              "          docLink.innerHTML = docLinkHtml;\n",
              "          element.appendChild(docLink);\n",
              "        }\n",
              "      </script>\n",
              "    </div>\n",
              "  </div>\n",
              "  "
            ]
          },
          "metadata": {},
          "execution_count": 100
        }
      ]
    },
    {
      "cell_type": "code",
      "source": [
        "tdf.describe()"
      ],
      "metadata": {
        "colab": {
          "base_uri": "https://localhost:8080/",
          "height": 300
        },
        "id": "B5tubK3m-2zy",
        "outputId": "76a12231-f101-47e5-eb15-71e050db9c40"
      },
      "execution_count": 101,
      "outputs": [
        {
          "output_type": "execute_result",
          "data": {
            "text/plain": [
              "           target           age           sex           bmi            bp  \\\n",
              "count  442.000000  4.420000e+02  4.420000e+02  4.420000e+02  4.420000e+02   \n",
              "mean   152.133484 -3.639623e-16  1.309912e-16 -8.013951e-16  1.289818e-16   \n",
              "std     77.093005  4.761905e-02  4.761905e-02  4.761905e-02  4.761905e-02   \n",
              "min     25.000000 -1.072256e-01 -4.464164e-02 -9.027530e-02 -1.123996e-01   \n",
              "25%     87.000000 -3.729927e-02 -4.464164e-02 -3.422907e-02 -3.665645e-02   \n",
              "50%    140.500000  5.383060e-03 -4.464164e-02 -7.283766e-03 -5.670611e-03   \n",
              "75%    211.500000  3.807591e-02  5.068012e-02  3.124802e-02  3.564384e-02   \n",
              "max    346.000000  1.107267e-01  5.068012e-02  1.705552e-01  1.320442e-01   \n",
              "\n",
              "                 s1            s2            s3            s4            s5  \\\n",
              "count  4.420000e+02  4.420000e+02  4.420000e+02  4.420000e+02  4.420000e+02   \n",
              "mean  -9.042540e-17  1.301121e-16 -4.563971e-16  3.863174e-16 -3.848103e-16   \n",
              "std    4.761905e-02  4.761905e-02  4.761905e-02  4.761905e-02  4.761905e-02   \n",
              "min   -1.267807e-01 -1.156131e-01 -1.023071e-01 -7.639450e-02 -1.260974e-01   \n",
              "25%   -3.424784e-02 -3.035840e-02 -3.511716e-02 -3.949338e-02 -3.324879e-02   \n",
              "50%   -4.320866e-03 -3.819065e-03 -6.584468e-03 -2.592262e-03 -1.947634e-03   \n",
              "75%    2.835801e-02  2.984439e-02  2.931150e-02  3.430886e-02  3.243323e-02   \n",
              "max    1.539137e-01  1.987880e-01  1.811791e-01  1.852344e-01  1.335990e-01   \n",
              "\n",
              "                 s6  \n",
              "count  4.420000e+02  \n",
              "mean  -3.398488e-16  \n",
              "std    4.761905e-02  \n",
              "min   -1.377672e-01  \n",
              "25%   -3.317903e-02  \n",
              "50%   -1.077698e-03  \n",
              "75%    2.791705e-02  \n",
              "max    1.356118e-01  "
            ],
            "text/html": [
              "\n",
              "  <div id=\"df-cfab1a53-b74d-4806-aab2-e48733157900\">\n",
              "    <div class=\"colab-df-container\">\n",
              "      <div>\n",
              "<style scoped>\n",
              "    .dataframe tbody tr th:only-of-type {\n",
              "        vertical-align: middle;\n",
              "    }\n",
              "\n",
              "    .dataframe tbody tr th {\n",
              "        vertical-align: top;\n",
              "    }\n",
              "\n",
              "    .dataframe thead th {\n",
              "        text-align: right;\n",
              "    }\n",
              "</style>\n",
              "<table border=\"1\" class=\"dataframe\">\n",
              "  <thead>\n",
              "    <tr style=\"text-align: right;\">\n",
              "      <th></th>\n",
              "      <th>target</th>\n",
              "      <th>age</th>\n",
              "      <th>sex</th>\n",
              "      <th>bmi</th>\n",
              "      <th>bp</th>\n",
              "      <th>s1</th>\n",
              "      <th>s2</th>\n",
              "      <th>s3</th>\n",
              "      <th>s4</th>\n",
              "      <th>s5</th>\n",
              "      <th>s6</th>\n",
              "    </tr>\n",
              "  </thead>\n",
              "  <tbody>\n",
              "    <tr>\n",
              "      <th>count</th>\n",
              "      <td>442.000000</td>\n",
              "      <td>4.420000e+02</td>\n",
              "      <td>4.420000e+02</td>\n",
              "      <td>4.420000e+02</td>\n",
              "      <td>4.420000e+02</td>\n",
              "      <td>4.420000e+02</td>\n",
              "      <td>4.420000e+02</td>\n",
              "      <td>4.420000e+02</td>\n",
              "      <td>4.420000e+02</td>\n",
              "      <td>4.420000e+02</td>\n",
              "      <td>4.420000e+02</td>\n",
              "    </tr>\n",
              "    <tr>\n",
              "      <th>mean</th>\n",
              "      <td>152.133484</td>\n",
              "      <td>-3.639623e-16</td>\n",
              "      <td>1.309912e-16</td>\n",
              "      <td>-8.013951e-16</td>\n",
              "      <td>1.289818e-16</td>\n",
              "      <td>-9.042540e-17</td>\n",
              "      <td>1.301121e-16</td>\n",
              "      <td>-4.563971e-16</td>\n",
              "      <td>3.863174e-16</td>\n",
              "      <td>-3.848103e-16</td>\n",
              "      <td>-3.398488e-16</td>\n",
              "    </tr>\n",
              "    <tr>\n",
              "      <th>std</th>\n",
              "      <td>77.093005</td>\n",
              "      <td>4.761905e-02</td>\n",
              "      <td>4.761905e-02</td>\n",
              "      <td>4.761905e-02</td>\n",
              "      <td>4.761905e-02</td>\n",
              "      <td>4.761905e-02</td>\n",
              "      <td>4.761905e-02</td>\n",
              "      <td>4.761905e-02</td>\n",
              "      <td>4.761905e-02</td>\n",
              "      <td>4.761905e-02</td>\n",
              "      <td>4.761905e-02</td>\n",
              "    </tr>\n",
              "    <tr>\n",
              "      <th>min</th>\n",
              "      <td>25.000000</td>\n",
              "      <td>-1.072256e-01</td>\n",
              "      <td>-4.464164e-02</td>\n",
              "      <td>-9.027530e-02</td>\n",
              "      <td>-1.123996e-01</td>\n",
              "      <td>-1.267807e-01</td>\n",
              "      <td>-1.156131e-01</td>\n",
              "      <td>-1.023071e-01</td>\n",
              "      <td>-7.639450e-02</td>\n",
              "      <td>-1.260974e-01</td>\n",
              "      <td>-1.377672e-01</td>\n",
              "    </tr>\n",
              "    <tr>\n",
              "      <th>25%</th>\n",
              "      <td>87.000000</td>\n",
              "      <td>-3.729927e-02</td>\n",
              "      <td>-4.464164e-02</td>\n",
              "      <td>-3.422907e-02</td>\n",
              "      <td>-3.665645e-02</td>\n",
              "      <td>-3.424784e-02</td>\n",
              "      <td>-3.035840e-02</td>\n",
              "      <td>-3.511716e-02</td>\n",
              "      <td>-3.949338e-02</td>\n",
              "      <td>-3.324879e-02</td>\n",
              "      <td>-3.317903e-02</td>\n",
              "    </tr>\n",
              "    <tr>\n",
              "      <th>50%</th>\n",
              "      <td>140.500000</td>\n",
              "      <td>5.383060e-03</td>\n",
              "      <td>-4.464164e-02</td>\n",
              "      <td>-7.283766e-03</td>\n",
              "      <td>-5.670611e-03</td>\n",
              "      <td>-4.320866e-03</td>\n",
              "      <td>-3.819065e-03</td>\n",
              "      <td>-6.584468e-03</td>\n",
              "      <td>-2.592262e-03</td>\n",
              "      <td>-1.947634e-03</td>\n",
              "      <td>-1.077698e-03</td>\n",
              "    </tr>\n",
              "    <tr>\n",
              "      <th>75%</th>\n",
              "      <td>211.500000</td>\n",
              "      <td>3.807591e-02</td>\n",
              "      <td>5.068012e-02</td>\n",
              "      <td>3.124802e-02</td>\n",
              "      <td>3.564384e-02</td>\n",
              "      <td>2.835801e-02</td>\n",
              "      <td>2.984439e-02</td>\n",
              "      <td>2.931150e-02</td>\n",
              "      <td>3.430886e-02</td>\n",
              "      <td>3.243323e-02</td>\n",
              "      <td>2.791705e-02</td>\n",
              "    </tr>\n",
              "    <tr>\n",
              "      <th>max</th>\n",
              "      <td>346.000000</td>\n",
              "      <td>1.107267e-01</td>\n",
              "      <td>5.068012e-02</td>\n",
              "      <td>1.705552e-01</td>\n",
              "      <td>1.320442e-01</td>\n",
              "      <td>1.539137e-01</td>\n",
              "      <td>1.987880e-01</td>\n",
              "      <td>1.811791e-01</td>\n",
              "      <td>1.852344e-01</td>\n",
              "      <td>1.335990e-01</td>\n",
              "      <td>1.356118e-01</td>\n",
              "    </tr>\n",
              "  </tbody>\n",
              "</table>\n",
              "</div>\n",
              "      <button class=\"colab-df-convert\" onclick=\"convertToInteractive('df-cfab1a53-b74d-4806-aab2-e48733157900')\"\n",
              "              title=\"Convert this dataframe to an interactive table.\"\n",
              "              style=\"display:none;\">\n",
              "        \n",
              "  <svg xmlns=\"http://www.w3.org/2000/svg\" height=\"24px\"viewBox=\"0 0 24 24\"\n",
              "       width=\"24px\">\n",
              "    <path d=\"M0 0h24v24H0V0z\" fill=\"none\"/>\n",
              "    <path d=\"M18.56 5.44l.94 2.06.94-2.06 2.06-.94-2.06-.94-.94-2.06-.94 2.06-2.06.94zm-11 1L8.5 8.5l.94-2.06 2.06-.94-2.06-.94L8.5 2.5l-.94 2.06-2.06.94zm10 10l.94 2.06.94-2.06 2.06-.94-2.06-.94-.94-2.06-.94 2.06-2.06.94z\"/><path d=\"M17.41 7.96l-1.37-1.37c-.4-.4-.92-.59-1.43-.59-.52 0-1.04.2-1.43.59L10.3 9.45l-7.72 7.72c-.78.78-.78 2.05 0 2.83L4 21.41c.39.39.9.59 1.41.59.51 0 1.02-.2 1.41-.59l7.78-7.78 2.81-2.81c.8-.78.8-2.07 0-2.86zM5.41 20L4 18.59l7.72-7.72 1.47 1.35L5.41 20z\"/>\n",
              "  </svg>\n",
              "      </button>\n",
              "      \n",
              "  <style>\n",
              "    .colab-df-container {\n",
              "      display:flex;\n",
              "      flex-wrap:wrap;\n",
              "      gap: 12px;\n",
              "    }\n",
              "\n",
              "    .colab-df-convert {\n",
              "      background-color: #E8F0FE;\n",
              "      border: none;\n",
              "      border-radius: 50%;\n",
              "      cursor: pointer;\n",
              "      display: none;\n",
              "      fill: #1967D2;\n",
              "      height: 32px;\n",
              "      padding: 0 0 0 0;\n",
              "      width: 32px;\n",
              "    }\n",
              "\n",
              "    .colab-df-convert:hover {\n",
              "      background-color: #E2EBFA;\n",
              "      box-shadow: 0px 1px 2px rgba(60, 64, 67, 0.3), 0px 1px 3px 1px rgba(60, 64, 67, 0.15);\n",
              "      fill: #174EA6;\n",
              "    }\n",
              "\n",
              "    [theme=dark] .colab-df-convert {\n",
              "      background-color: #3B4455;\n",
              "      fill: #D2E3FC;\n",
              "    }\n",
              "\n",
              "    [theme=dark] .colab-df-convert:hover {\n",
              "      background-color: #434B5C;\n",
              "      box-shadow: 0px 1px 3px 1px rgba(0, 0, 0, 0.15);\n",
              "      filter: drop-shadow(0px 1px 2px rgba(0, 0, 0, 0.3));\n",
              "      fill: #FFFFFF;\n",
              "    }\n",
              "  </style>\n",
              "\n",
              "      <script>\n",
              "        const buttonEl =\n",
              "          document.querySelector('#df-cfab1a53-b74d-4806-aab2-e48733157900 button.colab-df-convert');\n",
              "        buttonEl.style.display =\n",
              "          google.colab.kernel.accessAllowed ? 'block' : 'none';\n",
              "\n",
              "        async function convertToInteractive(key) {\n",
              "          const element = document.querySelector('#df-cfab1a53-b74d-4806-aab2-e48733157900');\n",
              "          const dataTable =\n",
              "            await google.colab.kernel.invokeFunction('convertToInteractive',\n",
              "                                                     [key], {});\n",
              "          if (!dataTable) return;\n",
              "\n",
              "          const docLinkHtml = 'Like what you see? Visit the ' +\n",
              "            '<a target=\"_blank\" href=https://colab.research.google.com/notebooks/data_table.ipynb>data table notebook</a>'\n",
              "            + ' to learn more about interactive tables.';\n",
              "          element.innerHTML = '';\n",
              "          dataTable['output_type'] = 'display_data';\n",
              "          await google.colab.output.renderOutput(dataTable, element);\n",
              "          const docLink = document.createElement('div');\n",
              "          docLink.innerHTML = docLinkHtml;\n",
              "          element.appendChild(docLink);\n",
              "        }\n",
              "      </script>\n",
              "    </div>\n",
              "  </div>\n",
              "  "
            ]
          },
          "metadata": {},
          "execution_count": 101
        }
      ]
    },
    {
      "cell_type": "markdown",
      "source": [
        "## Regression\n",
        "\n",
        "Regression attempts to model the relationship between some dependent variable (target, endogenous variable) and a set of independent variables (features, exogenous variables).  We will assume that the expected value of the target variable (mean)  is related in some way (via hypothesis) to a linear combination of features.  This is a __generalized linear model__.  \n",
        "\n",
        "Examples of generalized linear models\n",
        "* Linear regression - the hypothesis is the identify function explains the mean\n",
        "* Poisson model - the hypothesis can be the exponential function \n",
        "* Logistic regression - the hypothesis is the sigmoid function.  We'll see this function later\n",
        "* Multinomial Logistic regression - the hypothesis is the softmax function (to be seen in neural nets from scratch)"
      ],
      "metadata": {
        "id": "ZzVdueuU_AL_"
      }
    },
    {
      "cell_type": "markdown",
      "source": [
        "## Fitting the regression with the normal equations"
      ],
      "metadata": {
        "id": "FBWOddsi_FtH"
      }
    },
    {
      "cell_type": "markdown",
      "source": [
        "Fitting a linear regression is a fairly simply procedure, but can be prove difficult if there are a significant number of observations, or if there are more features than observations.  \n",
        "\n",
        "We hypothesize that our target variable $y$ can be written as a linear combination of features $X_1, X_2, \\ldots, X_n$, i.e., \n",
        "\n",
        "$$y = a + b_1X_1 + b_2X_2 + \\cdots + b_nX_n + \\epsilon$$\n",
        "\n",
        "Above, $\\epsilon$ is the error.  We can write this succinctly in matrix form as \n",
        "\n",
        "$$y = X\\beta + \\epsilon$$\n",
        "\n",
        "One way to solve this problem is directly via  \n",
        "\n",
        "$$ \\beta^* = (X^TX)^{-1}X^Ty $$"
      ],
      "metadata": {
        "id": "zv4dAlWq_KLU"
      }
    },
    {
      "cell_type": "code",
      "source": [
        "# add bias into X\n",
        "X = sma.add_constant(X)"
      ],
      "metadata": {
        "id": "vQGdrmqk-3Gk"
      },
      "execution_count": 102,
      "outputs": []
    },
    {
      "cell_type": "code",
      "source": [
        "parameters = [\"bias\"]\n",
        "parameters.extend( [\"x{}\".format(i) for i in range(10)])"
      ],
      "metadata": {
        "id": "3XEtBUYU_HlC"
      },
      "execution_count": 103,
      "outputs": []
    },
    {
      "cell_type": "code",
      "source": [
        "## solution to the least squares problem\n",
        "beta_normal_eq = np.linalg.inv(X.T*X)*X.T*y\n",
        "print( DataFrame(beta_normal_eq, index=parameters, columns=[\"parameters\"]))"
      ],
      "metadata": {
        "colab": {
          "base_uri": "https://localhost:8080/"
        },
        "id": "MkYa1T6w_icF",
        "outputId": "25a0255e-09cf-4046-8c8a-2324ff9b1b1f"
      },
      "execution_count": 104,
      "outputs": [
        {
          "output_type": "stream",
          "name": "stdout",
          "text": [
            "      parameters\n",
            "bias  152.133484\n",
            "x0    -10.012198\n",
            "x1   -239.819089\n",
            "x2    519.839787\n",
            "x3    324.390428\n",
            "x4   -792.184162\n",
            "x5    476.745838\n",
            "x6    101.044570\n",
            "x7    177.064176\n",
            "x8    751.279321\n",
            "x9     67.625386\n"
          ]
        }
      ]
    },
    {
      "cell_type": "markdown",
      "source": [
        "A typical measure for assessing goodness of fit with a linear model is to calculate the $R^2$ statistic.  You can think of this as the lift provided by the model over no model (just use the average of $y$ as the prediction)"
      ],
      "metadata": {
        "id": "dVFpgW22_wOf"
      }
    },
    {
      "cell_type": "code",
      "source": [
        "## r^2\n",
        "def r2(x,y,beta):\n",
        "    yhat = x*beta\n",
        "    e = y - yhat\n",
        "    ess = (e.T*e)[0,0]\n",
        "    tss = ((y - y.mean()).T*(y - y.mean()))[0,0]\n",
        "    return 1 - ess/tss\n",
        "\n",
        "print(r2(X,y,beta_normal_eq))"
      ],
      "metadata": {
        "colab": {
          "base_uri": "https://localhost:8080/"
        },
        "id": "tTUu8yTT_oDO",
        "outputId": "aa0a18fb-83f7-477a-f851-0f060d6261e7"
      },
      "execution_count": 105,
      "outputs": [
        {
          "output_type": "stream",
          "name": "stdout",
          "text": [
            "0.5177494254132934\n"
          ]
        }
      ]
    },
    {
      "cell_type": "code",
      "source": [
        ""
      ],
      "metadata": {
        "id": "k_C_ILJ1APY5"
      },
      "execution_count": 105,
      "outputs": []
    },
    {
      "cell_type": "markdown",
      "source": [
        "## (Advanced) PCA via SVD\n",
        "\n",
        "SVD primary objective is to decompose a given matrix $A$ into 3 seperate matrices, $u, d, v$ such that $A = u d v^T$\n",
        "\n",
        "We'll run the SVD algorithm on the correlation matrix of our data.  This will return 3 matrices\n",
        "* 2 of them will be the eigenvectors of the correlation matrix \n",
        "* 1 will be a a matrix of eigenvalues of the correlation matrix on the main diagonal with zeros elsewhere. \n",
        "\n",
        "Here SVD returns the diagonalization of the correlation matrix.  \n",
        "\n",
        "We can use either $u$ or $v$ to calculate the first $n$ principal components.  "
      ],
      "metadata": {
        "id": "7IL6mue1BLbp"
      }
    },
    {
      "cell_type": "code",
      "source": [
        "covariance_matrix = np.cov(X.T)\n",
        "u, d, v = np.linalg.svd(covariance_matrix, full_matrices=False)\n",
        "np.cumsum(d / d.sum())"
      ],
      "metadata": {
        "id": "FZbZJn_HAnda",
        "colab": {
          "base_uri": "https://localhost:8080/"
        },
        "outputId": "894685cd-8b7b-4e6c-d386-52e3cb3e49a7"
      },
      "execution_count": 106,
      "outputs": [
        {
          "output_type": "execute_result",
          "data": {
            "text/plain": [
              "array([0.40242142, 0.55165324, 0.67224947, 0.76779711, 0.83401567,\n",
              "       0.89428759, 0.94794364, 0.99131196, 0.99914395, 1.        ,\n",
              "       1.        ])"
            ]
          },
          "metadata": {},
          "execution_count": 106
        }
      ]
    },
    {
      "cell_type": "markdown",
      "source": [
        "Typically choose components to some threshold\n",
        "* number of features you would like\n",
        "* or as soon as you capture 90 to 99% of the variance with your components. "
      ],
      "metadata": {
        "id": "JPpZYDB_Ff3r"
      }
    },
    {
      "cell_type": "code",
      "source": [
        "pd.DataFrame(d / d.sum(), columns = [\"n_components\"]).plot()\n",
        "pd.DataFrame( np.cumsum(d / d.sum()), columns = [\"percent of variance\"]).plot()"
      ],
      "metadata": {
        "colab": {
          "base_uri": "https://localhost:8080/",
          "height": 530
        },
        "id": "7y7wg7aHhPp4",
        "outputId": "0033e15b-95e3-4f3d-cb87-2677b9f74da3"
      },
      "execution_count": 122,
      "outputs": [
        {
          "output_type": "execute_result",
          "data": {
            "text/plain": [
              "<matplotlib.axes._subplots.AxesSubplot at 0x7f179f00d6d0>"
            ]
          },
          "metadata": {},
          "execution_count": 122
        },
        {
          "output_type": "display_data",
          "data": {
            "text/plain": [
              "<Figure size 432x288 with 1 Axes>"
            ],
            "image/png": "[encoded data removed]"
          },
          "metadata": {
            "needs_background": "light"
          }
        },
        {
          "output_type": "display_data",
          "data": {
            "text/plain": [
              "<Figure size 432x288 with 1 Axes>"
            ],
            "image/png": "[encoded data removed]"
          },
          "metadata": {
            "needs_background": "light"
          }
        }
      ]
    },
    {
      "cell_type": "code",
      "source": [
        "prin_comps = X @ u[:, 0:8]"
      ],
      "metadata": {
        "id": "DgDbenzRGiRA"
      },
      "execution_count": 123,
      "outputs": []
    },
    {
      "cell_type": "code",
      "source": [
        "from sklearn.decomposition import PCA\n",
        "pca = PCA(n_components = 8)\n",
        "sk_prin_comps = pca.fit_transform(X)\n",
        "np.allclose(np.abs(sk_prin_comps), np.abs(prin_comps))"
      ],
      "metadata": {
        "id": "zBHjZOowGji-",
        "colab": {
          "base_uri": "https://localhost:8080/"
        },
        "outputId": "98be973e-1f66-4ed9-8d45-3cb66ede6ec6"
      },
      "execution_count": 124,
      "outputs": [
        {
          "output_type": "execute_result",
          "data": {
            "text/plain": [
              "True"
            ]
          },
          "metadata": {},
          "execution_count": 124
        }
      ]
    },
    {
      "cell_type": "code",
      "source": [
        ""
      ],
      "metadata": {
        "id": "OzAA2BsFiD64"
      },
      "execution_count": null,
      "outputs": []
    }
  ]
}