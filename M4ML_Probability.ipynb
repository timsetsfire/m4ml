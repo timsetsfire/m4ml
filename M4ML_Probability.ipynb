{
  "cells": [
    {
      "cell_type": "markdown",
      "metadata": {
        "id": "view-in-github",
        "colab_type": "text"
      },
      "source": [
        "<a href=\"https://colab.research.google.com/github/timsetsfire/m4ml/blob/main/M4ML_Probability.ipynb\" target=\"_parent\"><img src=\"https://colab.research.google.com/assets/colab-badge.svg\" alt=\"Open In Colab\"/></a>"
      ]
    },
    {
      "cell_type": "markdown",
      "metadata": {
        "id": "G41azVRdgW2E"
      },
      "source": [
        "## Goals\n",
        "\n",
        "We'll (briefly) cover \n",
        "* Estimate logistic regression via gradient descent\n",
        "* We'll wrap by estimating the logistic regression via Statsmodels, Scikit Learn, and PyTorch!"
      ]
    },
    {
      "cell_type": "code",
      "execution_count": 1,
      "metadata": {
        "collapsed": true,
        "id": "IwbDfue7gW2G"
      },
      "outputs": [],
      "source": [
        "import numpy as np\n",
        "import warnings\n",
        "warnings.filterwarnings('ignore')"
      ]
    },
    {
      "cell_type": "markdown",
      "metadata": {
        "id": "DDirtI9TgW2K"
      },
      "source": [
        "## Load Data"
      ]
    },
    {
      "cell_type": "code",
      "execution_count": 2,
      "metadata": {
        "id": "KFNffp06gW2K"
      },
      "outputs": [],
      "source": [
        "import pandas as pd\n",
        "from pandas import DataFrame\n",
        "import seaborn as sns\n",
        "from sklearn.datasets import make_circles\n",
        "from sklearn.model_selection import train_test_split\n",
        "## useful function from statsmodels\n",
        "import statsmodels.api as sma\n",
        "## add_constant will check the rank of your matrix prior to adding a column on 1s."
      ]
    },
    {
      "cell_type": "code",
      "source": [
        "## generate data for logistic regression\n",
        "X, g = make_circles(n_samples=500, shuffle=True, noise=0.2, random_state=1, factor=0.1)"
      ],
      "metadata": {
        "id": "azs1PWb3hVAm"
      },
      "execution_count": 3,
      "outputs": []
    },
    {
      "cell_type": "code",
      "source": [
        "X = np.matrix(X)\n",
        "g = np.matrix(g).T\n",
        "logistic_reg_data = DataFrame( np.concatenate((X, g),axis=1), columns = [\"x0\", \"x1\", \"g\"])\n",
        "sns.lmplot('x0','x1',logistic_reg_data,hue='g',fit_reg=False)"
      ],
      "metadata": {
        "colab": {
          "base_uri": "https://localhost:8080/",
          "height": 386
        },
        "id": "NeYmkWxOhW9D",
        "outputId": "96adbfe5-ca58-472e-87dc-3135d445f2db"
      },
      "execution_count": 4,
      "outputs": [
        {
          "output_type": "execute_result",
          "data": {
            "text/plain": [
              "<seaborn.axisgrid.FacetGrid at 0x7fd20fca5d90>"
            ]
          },
          "metadata": {},
          "execution_count": 4
        },
        {
          "output_type": "display_data",
          "data": {
            "text/plain": [
              "<Figure size 411.875x360 with 1 Axes>"
            ],
            "image/png": "[encoded data removed]"
          },
          "metadata": {
            "needs_background": "light"
          }
        }
      ]
    },
    {
      "cell_type": "markdown",
      "metadata": {
        "id": "ta62fO37gW2N"
      },
      "source": [
        "## Fitting a Logistic Regression\n",
        "\n",
        "Given a categorical variable $y$ with 2 classes (binary variable), $y$ can best be described as a Bernoulli random variable - which is a random variable that takes the value $A$ with probability $p$ and the value $B$ with probability $1 - p$.  \n",
        "\n",
        "We are interested in modeling the posterior probabilities of the 2 classes via some linear function in $x$.  \n",
        "\n",
        "$y$ can best be described as a Bernoulli random variable, that is a variable that can assume two values\n",
        "\n",
        "The model takes the form\n",
        "\n",
        "$$ \\log \\frac{ \\mathbb{P}(y = 1 | X = x) }{ \\mathbb{P}(y = 0 | X = x) } = x\\beta $$\n",
        "\n",
        "The function on left hand side is known as the logit function.  \n",
        "\n",
        "It can be shown then that \n",
        "$$ \\mathbb{P}(y = 1 | X = x) = \\frac{\\exp(x\\beta)}{(1 + \\exp(x\\beta)}$$\n",
        "The function on the right is the __sigmoid function__ and is strictly between 0 and 1.  \n",
        "and \n",
        "$$ \\mathbb{P}(y = 0 | X = x) = 1 - \\mathbb{P}(y = 1 | X = x)$$ \n",
        "\n",
        "Recall that the Bernoulli PDF takes the form \n",
        "\n",
        "$$p^{y}(1-p)^{1-y}$$\n",
        "\n",
        "We will use objective function \n",
        "\n",
        "$$\\frac{-1}{N}\\sum_{i=1}^N \\big(y_i\\log(p_i) + (1 - y_i)\\log(1 - p_i)\\big)$$\n",
        "\n",
        "This is the average surprisal and we will minimize our average surpise wrt $\\beta$!  Unfortunately, there is not closed form solution to this problem and must be solved numerically."
      ]
    },
    {
      "cell_type": "markdown",
      "source": [
        "## Last time "
      ],
      "metadata": {
        "id": "7luBlWichdru"
      }
    },
    {
      "cell_type": "code",
      "source": [
        "## create the objective function \n",
        "\n",
        "class MSE(object):\n",
        "    def valueAt( x, y, beta):\n",
        "        yhat = x * b\n",
        "        e = y - yhat\n",
        "        return y.T*y / x.shape[0]\n",
        "    def gradientAt(x, y, beta):\n",
        "        yhat = x * beta\n",
        "        e = y - yhat\n",
        "        return -x.T*e / x.shape[0]\n",
        "  \n",
        "class L2(object):\n",
        "    def valueAt(b):\n",
        "        return 1/2*linalg.norm(b) \n",
        "    def gradientAt(b):\n",
        "        return b\n",
        "    \n",
        "class GradientDescent(object):\n",
        "    def __init__(self, cost_function=MSE, tolerance=1e-6, regularization=None):\n",
        "        self.cost_function = cost_function\n",
        "        self.tol = tolerance\n",
        "        self.iter = 0\n",
        "        self.beta = None\n",
        "        self.regularization = regularization\n",
        "        \n",
        "    def optimize(self, X,y,learning_rate=0.1,init_params=None):\n",
        "        if init_params is None:\n",
        "            beta = np.matrix( np.zeros(X.shape[1])).T\n",
        "        else:\n",
        "            beta = init_params\n",
        "        grad = self.cost_function.gradientAt(X,y,beta)\n",
        "        if self.regularization is not None:\n",
        "            pass\n",
        "        prev_beta = beta\n",
        "        beta = beta - learning_rate*grad\n",
        "        ## several termination criteria to use\n",
        "        ## abs change in beta is small\n",
        "        ## abs change in beta / norm of beta \n",
        "        ## abs change in object is small\n",
        "        ## here we use magitute of the gradient\n",
        "        while np.linalg.norm(prev_beta - beta)/np.linalg.norm(beta) > self.tol:\n",
        "            prev_beta = beta\n",
        "            self.iter += 1\n",
        "            grad = self.cost_function.gradientAt(X,y,beta)\n",
        "            if self.regularization is not None:\n",
        "                pass\n",
        "            beta = beta - learning_rate*grad\n",
        "        self.beta = beta\n",
        "        return beta"
      ],
      "metadata": {
        "id": "VqETN-YPhcxL"
      },
      "execution_count": 5,
      "outputs": []
    },
    {
      "cell_type": "code",
      "execution_count": 6,
      "metadata": {
        "collapsed": true,
        "id": "JJo1j5Q0gW2O"
      },
      "outputs": [],
      "source": [
        "def sigmoid(z):\n",
        "    return 1/(1 + np.exp(-z))\n",
        "\n",
        "## creating this as object to expose value and gradient methods \n",
        "class BCE(object):\n",
        "    \n",
        "    def valueAt( x, y, beta):\n",
        "        p = sigmoid(x*beta)\n",
        "        ll = y.T*(np.log(p + 1e-3)) + (1 - y).T*( np.log(1 - p + 1e-3))\n",
        "        return -ll / x.shape[0]\n",
        "        \n",
        "    def gradientAt( x, y, beta):\n",
        "        p = sigmoid(x*beta)\n",
        "        grad = x.T.dot(y - p) / x.shape[0]\n",
        "        return -grad"
      ]
    },
    {
      "cell_type": "code",
      "execution_count": 7,
      "metadata": {
        "collapsed": true,
        "id": "nEmzBj6WgW2O"
      },
      "outputs": [],
      "source": [
        "# let's add in the square of each X\n",
        "X = np.concatenate( (X, np.multiply(X,X)) ,axis=1)"
      ]
    },
    {
      "cell_type": "code",
      "execution_count": 8,
      "metadata": {
        "collapsed": true,
        "id": "nOFtelCrgW2O"
      },
      "outputs": [],
      "source": [
        "X = sma.add_constant(X)"
      ]
    },
    {
      "cell_type": "code",
      "execution_count": 9,
      "metadata": {
        "id": "-JBXVdcZgW2O",
        "outputId": "0c085154-6e77-4318-a3ad-93e4825cbb61",
        "colab": {
          "base_uri": "https://localhost:8080/"
        }
      },
      "outputs": [
        {
          "output_type": "stream",
          "name": "stdout",
          "text": [
            "iterations: 7081\n",
            "[[  6.87189114  -1.5452632    0.43632932 -18.83842846 -19.94394414]]\n"
          ]
        },
        {
          "output_type": "execute_result",
          "data": {
            "text/plain": [
              "matrix([[0.05699125]])"
            ]
          },
          "metadata": {},
          "execution_count": 9
        }
      ],
      "source": [
        "logistic_regression = GradientDescent(BCE, tolerance=1e-7)\n",
        "b = logistic_regression.optimize(X,g,learning_rate=10) ## show the perils of large learning rate\n",
        "print(\"iterations: {}\".format(logistic_regression.iter))\n",
        "print(logistic_regression.beta.T)\n",
        "BCE.valueAt(X,g,b)"
      ]
    },
    {
      "cell_type": "markdown",
      "metadata": {
        "id": "r0bZvOC4gW2O"
      },
      "source": [
        "That's alot of iterations!  We can improve it by standardizing the features and playing with the learning rate"
      ]
    },
    {
      "cell_type": "code",
      "execution_count": 10,
      "metadata": {
        "id": "9y6j5gUBgW2O",
        "outputId": "fab61d8e-8c5c-4c4a-e49a-6b1f927a0765",
        "colab": {
          "base_uri": "https://localhost:8080/"
        }
      },
      "outputs": [
        {
          "output_type": "stream",
          "name": "stdout",
          "text": [
            "iterations: 1583\n",
            "[[-4.24613477 -0.81655168  0.23639975 -7.32065413 -8.06246855]]\n"
          ]
        },
        {
          "output_type": "execute_result",
          "data": {
            "text/plain": [
              "matrix([[0.05699114]])"
            ]
          },
          "metadata": {},
          "execution_count": 10
        }
      ],
      "source": [
        "from sklearn.preprocessing import StandardScaler\n",
        "standardScaler = StandardScaler()\n",
        "X = standardScaler.fit_transform(X[:,1:])\n",
        "X = np.matrix(X)\n",
        "X = sma.add_constant(X)\n",
        "\n",
        "logistic_regression = GradientDescent(BCE, tolerance=1e-7)\n",
        "b = logistic_regression.optimize(X,g,learning_rate=10) ## show the perils of large learning rate\n",
        "print(\"iterations: {}\".format(logistic_regression.iter))\n",
        "print(logistic_regression.beta.T)\n",
        "BCE.valueAt(X,g,b)"
      ]
    },
    {
      "cell_type": "markdown",
      "metadata": {
        "id": "KWHdirM_gW2O"
      },
      "source": [
        "## Model Performance"
      ]
    },
    {
      "cell_type": "code",
      "execution_count": 11,
      "metadata": {
        "id": "C_Pyq5IXgW2O",
        "outputId": "45c264c4-df8e-44f1-d050-a46084a61111",
        "colab": {
          "base_uri": "https://localhost:8080/",
          "height": 206
        }
      },
      "outputs": [
        {
          "output_type": "execute_result",
          "data": {
            "text/plain": [
              "         x0        x1    g  phat\n",
              "0  0.207810  0.258504  1.0     1\n",
              "1  0.261353 -0.072018  1.0     1\n",
              "2  0.464686  0.940512  0.0     0\n",
              "3 -0.328772  0.766245  0.0     0\n",
              "4  0.227187 -0.273839  1.0     1"
            ],
            "text/html": [
              "\n",
              "  <div id=\"df-fae98405-f5e0-4fa3-bdca-b875c14260d7\">\n",
              "    <div class=\"colab-df-container\">\n",
              "      <div>\n",
              "<style scoped>\n",
              "    .dataframe tbody tr th:only-of-type {\n",
              "        vertical-align: middle;\n",
              "    }\n",
              "\n",
              "    .dataframe tbody tr th {\n",
              "        vertical-align: top;\n",
              "    }\n",
              "\n",
              "    .dataframe thead th {\n",
              "        text-align: right;\n",
              "    }\n",
              "</style>\n",
              "<table border=\"1\" class=\"dataframe\">\n",
              "  <thead>\n",
              "    <tr style=\"text-align: right;\">\n",
              "      <th></th>\n",
              "      <th>x0</th>\n",
              "      <th>x1</th>\n",
              "      <th>g</th>\n",
              "      <th>phat</th>\n",
              "    </tr>\n",
              "  </thead>\n",
              "  <tbody>\n",
              "    <tr>\n",
              "      <th>0</th>\n",
              "      <td>0.207810</td>\n",
              "      <td>0.258504</td>\n",
              "      <td>1.0</td>\n",
              "      <td>1</td>\n",
              "    </tr>\n",
              "    <tr>\n",
              "      <th>1</th>\n",
              "      <td>0.261353</td>\n",
              "      <td>-0.072018</td>\n",
              "      <td>1.0</td>\n",
              "      <td>1</td>\n",
              "    </tr>\n",
              "    <tr>\n",
              "      <th>2</th>\n",
              "      <td>0.464686</td>\n",
              "      <td>0.940512</td>\n",
              "      <td>0.0</td>\n",
              "      <td>0</td>\n",
              "    </tr>\n",
              "    <tr>\n",
              "      <th>3</th>\n",
              "      <td>-0.328772</td>\n",
              "      <td>0.766245</td>\n",
              "      <td>0.0</td>\n",
              "      <td>0</td>\n",
              "    </tr>\n",
              "    <tr>\n",
              "      <th>4</th>\n",
              "      <td>0.227187</td>\n",
              "      <td>-0.273839</td>\n",
              "      <td>1.0</td>\n",
              "      <td>1</td>\n",
              "    </tr>\n",
              "  </tbody>\n",
              "</table>\n",
              "</div>\n",
              "      <button class=\"colab-df-convert\" onclick=\"convertToInteractive('df-fae98405-f5e0-4fa3-bdca-b875c14260d7')\"\n",
              "              title=\"Convert this dataframe to an interactive table.\"\n",
              "              style=\"display:none;\">\n",
              "        \n",
              "  <svg xmlns=\"http://www.w3.org/2000/svg\" height=\"24px\"viewBox=\"0 0 24 24\"\n",
              "       width=\"24px\">\n",
              "    <path d=\"M0 0h24v24H0V0z\" fill=\"none\"/>\n",
              "    <path d=\"M18.56 5.44l.94 2.06.94-2.06 2.06-.94-2.06-.94-.94-2.06-.94 2.06-2.06.94zm-11 1L8.5 8.5l.94-2.06 2.06-.94-2.06-.94L8.5 2.5l-.94 2.06-2.06.94zm10 10l.94 2.06.94-2.06 2.06-.94-2.06-.94-.94-2.06-.94 2.06-2.06.94z\"/><path d=\"M17.41 7.96l-1.37-1.37c-.4-.4-.92-.59-1.43-.59-.52 0-1.04.2-1.43.59L10.3 9.45l-7.72 7.72c-.78.78-.78 2.05 0 2.83L4 21.41c.39.39.9.59 1.41.59.51 0 1.02-.2 1.41-.59l7.78-7.78 2.81-2.81c.8-.78.8-2.07 0-2.86zM5.41 20L4 18.59l7.72-7.72 1.47 1.35L5.41 20z\"/>\n",
              "  </svg>\n",
              "      </button>\n",
              "      \n",
              "  <style>\n",
              "    .colab-df-container {\n",
              "      display:flex;\n",
              "      flex-wrap:wrap;\n",
              "      gap: 12px;\n",
              "    }\n",
              "\n",
              "    .colab-df-convert {\n",
              "      background-color: #E8F0FE;\n",
              "      border: none;\n",
              "      border-radius: 50%;\n",
              "      cursor: pointer;\n",
              "      display: none;\n",
              "      fill: #1967D2;\n",
              "      height: 32px;\n",
              "      padding: 0 0 0 0;\n",
              "      width: 32px;\n",
              "    }\n",
              "\n",
              "    .colab-df-convert:hover {\n",
              "      background-color: #E2EBFA;\n",
              "      box-shadow: 0px 1px 2px rgba(60, 64, 67, 0.3), 0px 1px 3px 1px rgba(60, 64, 67, 0.15);\n",
              "      fill: #174EA6;\n",
              "    }\n",
              "\n",
              "    [theme=dark] .colab-df-convert {\n",
              "      background-color: #3B4455;\n",
              "      fill: #D2E3FC;\n",
              "    }\n",
              "\n",
              "    [theme=dark] .colab-df-convert:hover {\n",
              "      background-color: #434B5C;\n",
              "      box-shadow: 0px 1px 3px 1px rgba(0, 0, 0, 0.15);\n",
              "      filter: drop-shadow(0px 1px 2px rgba(0, 0, 0, 0.3));\n",
              "      fill: #FFFFFF;\n",
              "    }\n",
              "  </style>\n",
              "\n",
              "      <script>\n",
              "        const buttonEl =\n",
              "          document.querySelector('#df-fae98405-f5e0-4fa3-bdca-b875c14260d7 button.colab-df-convert');\n",
              "        buttonEl.style.display =\n",
              "          google.colab.kernel.accessAllowed ? 'block' : 'none';\n",
              "\n",
              "        async function convertToInteractive(key) {\n",
              "          const element = document.querySelector('#df-fae98405-f5e0-4fa3-bdca-b875c14260d7');\n",
              "          const dataTable =\n",
              "            await google.colab.kernel.invokeFunction('convertToInteractive',\n",
              "                                                     [key], {});\n",
              "          if (!dataTable) return;\n",
              "\n",
              "          const docLinkHtml = 'Like what you see? Visit the ' +\n",
              "            '<a target=\"_blank\" href=https://colab.research.google.com/notebooks/data_table.ipynb>data table notebook</a>'\n",
              "            + ' to learn more about interactive tables.';\n",
              "          element.innerHTML = '';\n",
              "          dataTable['output_type'] = 'display_data';\n",
              "          await google.colab.output.renderOutput(dataTable, element);\n",
              "          const docLink = document.createElement('div');\n",
              "          docLink.innerHTML = docLinkHtml;\n",
              "          element.appendChild(docLink);\n",
              "        }\n",
              "      </script>\n",
              "    </div>\n",
              "  </div>\n",
              "  "
            ]
          },
          "metadata": {},
          "execution_count": 11
        }
      ],
      "source": [
        "logistic_reg_data[\"phat\"] = np.array(1*(sigmoid(X.dot(logistic_regression.beta))>0.5)).squeeze().tolist()\n",
        "logistic_reg_data.head()"
      ]
    },
    {
      "cell_type": "code",
      "execution_count": 12,
      "metadata": {
        "id": "n1ABGmLvgW2O",
        "outputId": "6c813c70-e51f-479a-be51-06ad61e02d13",
        "colab": {
          "base_uri": "https://localhost:8080/",
          "height": 386
        }
      },
      "outputs": [
        {
          "output_type": "execute_result",
          "data": {
            "text/plain": [
              "<seaborn.axisgrid.FacetGrid at 0x7fd20d36ff50>"
            ]
          },
          "metadata": {},
          "execution_count": 12
        },
        {
          "output_type": "display_data",
          "data": {
            "text/plain": [
              "<Figure size 402.375x360 with 1 Axes>"
            ],
            "image/png": "[encoded data removed]"
          },
          "metadata": {
            "needs_background": "light"
          }
        }
      ],
      "source": [
        "sns.lmplot('x0','x1',logistic_reg_data,hue='phat',fit_reg=False)"
      ]
    },
    {
      "cell_type": "code",
      "source": [
        "%%capture\n",
        "!pip install pandasql "
      ],
      "metadata": {
        "id": "Cwc6__JIkFE7"
      },
      "execution_count": 13,
      "outputs": []
    },
    {
      "cell_type": "code",
      "execution_count": 14,
      "metadata": {
        "id": "lrWIY_rtgW2O",
        "outputId": "5dbb06a6-e790-4e04-d6d0-fe968366ee04",
        "colab": {
          "base_uri": "https://localhost:8080/",
          "height": 175
        }
      },
      "outputs": [
        {
          "output_type": "execute_result",
          "data": {
            "text/plain": [
              "     g  phat    n\n",
              "0  0.0     0  244\n",
              "1  0.0     1    6\n",
              "2  1.0     0    4\n",
              "3  1.0     1  246"
            ],
            "text/html": [
              "\n",
              "  <div id=\"df-13d84718-250a-431f-800a-f4e44d891e18\">\n",
              "    <div class=\"colab-df-container\">\n",
              "      <div>\n",
              "<style scoped>\n",
              "    .dataframe tbody tr th:only-of-type {\n",
              "        vertical-align: middle;\n",
              "    }\n",
              "\n",
              "    .dataframe tbody tr th {\n",
              "        vertical-align: top;\n",
              "    }\n",
              "\n",
              "    .dataframe thead th {\n",
              "        text-align: right;\n",
              "    }\n",
              "</style>\n",
              "<table border=\"1\" class=\"dataframe\">\n",
              "  <thead>\n",
              "    <tr style=\"text-align: right;\">\n",
              "      <th></th>\n",
              "      <th>g</th>\n",
              "      <th>phat</th>\n",
              "      <th>n</th>\n",
              "    </tr>\n",
              "  </thead>\n",
              "  <tbody>\n",
              "    <tr>\n",
              "      <th>0</th>\n",
              "      <td>0.0</td>\n",
              "      <td>0</td>\n",
              "      <td>244</td>\n",
              "    </tr>\n",
              "    <tr>\n",
              "      <th>1</th>\n",
              "      <td>0.0</td>\n",
              "      <td>1</td>\n",
              "      <td>6</td>\n",
              "    </tr>\n",
              "    <tr>\n",
              "      <th>2</th>\n",
              "      <td>1.0</td>\n",
              "      <td>0</td>\n",
              "      <td>4</td>\n",
              "    </tr>\n",
              "    <tr>\n",
              "      <th>3</th>\n",
              "      <td>1.0</td>\n",
              "      <td>1</td>\n",
              "      <td>246</td>\n",
              "    </tr>\n",
              "  </tbody>\n",
              "</table>\n",
              "</div>\n",
              "      <button class=\"colab-df-convert\" onclick=\"convertToInteractive('df-13d84718-250a-431f-800a-f4e44d891e18')\"\n",
              "              title=\"Convert this dataframe to an interactive table.\"\n",
              "              style=\"display:none;\">\n",
              "        \n",
              "  <svg xmlns=\"http://www.w3.org/2000/svg\" height=\"24px\"viewBox=\"0 0 24 24\"\n",
              "       width=\"24px\">\n",
              "    <path d=\"M0 0h24v24H0V0z\" fill=\"none\"/>\n",
              "    <path d=\"M18.56 5.44l.94 2.06.94-2.06 2.06-.94-2.06-.94-.94-2.06-.94 2.06-2.06.94zm-11 1L8.5 8.5l.94-2.06 2.06-.94-2.06-.94L8.5 2.5l-.94 2.06-2.06.94zm10 10l.94 2.06.94-2.06 2.06-.94-2.06-.94-.94-2.06-.94 2.06-2.06.94z\"/><path d=\"M17.41 7.96l-1.37-1.37c-.4-.4-.92-.59-1.43-.59-.52 0-1.04.2-1.43.59L10.3 9.45l-7.72 7.72c-.78.78-.78 2.05 0 2.83L4 21.41c.39.39.9.59 1.41.59.51 0 1.02-.2 1.41-.59l7.78-7.78 2.81-2.81c.8-.78.8-2.07 0-2.86zM5.41 20L4 18.59l7.72-7.72 1.47 1.35L5.41 20z\"/>\n",
              "  </svg>\n",
              "      </button>\n",
              "      \n",
              "  <style>\n",
              "    .colab-df-container {\n",
              "      display:flex;\n",
              "      flex-wrap:wrap;\n",
              "      gap: 12px;\n",
              "    }\n",
              "\n",
              "    .colab-df-convert {\n",
              "      background-color: #E8F0FE;\n",
              "      border: none;\n",
              "      border-radius: 50%;\n",
              "      cursor: pointer;\n",
              "      display: none;\n",
              "      fill: #1967D2;\n",
              "      height: 32px;\n",
              "      padding: 0 0 0 0;\n",
              "      width: 32px;\n",
              "    }\n",
              "\n",
              "    .colab-df-convert:hover {\n",
              "      background-color: #E2EBFA;\n",
              "      box-shadow: 0px 1px 2px rgba(60, 64, 67, 0.3), 0px 1px 3px 1px rgba(60, 64, 67, 0.15);\n",
              "      fill: #174EA6;\n",
              "    }\n",
              "\n",
              "    [theme=dark] .colab-df-convert {\n",
              "      background-color: #3B4455;\n",
              "      fill: #D2E3FC;\n",
              "    }\n",
              "\n",
              "    [theme=dark] .colab-df-convert:hover {\n",
              "      background-color: #434B5C;\n",
              "      box-shadow: 0px 1px 3px 1px rgba(0, 0, 0, 0.15);\n",
              "      filter: drop-shadow(0px 1px 2px rgba(0, 0, 0, 0.3));\n",
              "      fill: #FFFFFF;\n",
              "    }\n",
              "  </style>\n",
              "\n",
              "      <script>\n",
              "        const buttonEl =\n",
              "          document.querySelector('#df-13d84718-250a-431f-800a-f4e44d891e18 button.colab-df-convert');\n",
              "        buttonEl.style.display =\n",
              "          google.colab.kernel.accessAllowed ? 'block' : 'none';\n",
              "\n",
              "        async function convertToInteractive(key) {\n",
              "          const element = document.querySelector('#df-13d84718-250a-431f-800a-f4e44d891e18');\n",
              "          const dataTable =\n",
              "            await google.colab.kernel.invokeFunction('convertToInteractive',\n",
              "                                                     [key], {});\n",
              "          if (!dataTable) return;\n",
              "\n",
              "          const docLinkHtml = 'Like what you see? Visit the ' +\n",
              "            '<a target=\"_blank\" href=https://colab.research.google.com/notebooks/data_table.ipynb>data table notebook</a>'\n",
              "            + ' to learn more about interactive tables.';\n",
              "          element.innerHTML = '';\n",
              "          dataTable['output_type'] = 'display_data';\n",
              "          await google.colab.output.renderOutput(dataTable, element);\n",
              "          const docLink = document.createElement('div');\n",
              "          docLink.innerHTML = docLinkHtml;\n",
              "          element.appendChild(docLink);\n",
              "        }\n",
              "      </script>\n",
              "    </div>\n",
              "  </div>\n",
              "  "
            ]
          },
          "metadata": {},
          "execution_count": 14
        }
      ],
      "source": [
        "from pandasql import sqldf\n",
        "pysqldf = lambda q: sqldf(q, globals())\n",
        "## https://github.com/yhat/pandasql\n",
        "pysqldf(\"select g, phat, sum(1) as n from logistic_reg_data group by g, phat;\")"
      ]
    },
    {
      "cell_type": "code",
      "execution_count": 15,
      "metadata": {
        "collapsed": true,
        "id": "3xhT7HiUgW2O"
      },
      "outputs": [],
      "source": [
        "from sklearn.metrics import average_precision_score, recall_score, precision_score, f1_score, accuracy_score\n",
        "from sklearn.metrics import roc_curve, auc\n",
        "import matplotlib.pyplot as plt"
      ]
    },
    {
      "cell_type": "markdown",
      "metadata": {
        "id": "K5BXCTjRgW2O"
      },
      "source": [
        "See https://en.wikipedia.org/wiki/Precision_and_recall for more details\n",
        "\n",
        "* Accuracy = (True Positive + True Negative) / N\n",
        "* Recall = True Positive/(True Positive + False Negative)\n",
        "* Precision = True Positive / (True Positive + False Positive)\n"
      ]
    },
    {
      "cell_type": "code",
      "execution_count": 16,
      "metadata": {
        "id": "Tg_0SagagW2O",
        "outputId": "60518cdd-b595-44c3-f045-21d4cdc2711b",
        "colab": {
          "base_uri": "https://localhost:8080/"
        }
      },
      "outputs": [
        {
          "output_type": "stream",
          "name": "stdout",
          "text": [
            "recall: 0.9840\n",
            "precision: 0.9762\n",
            "accuracy: 0.9800\n"
          ]
        }
      ],
      "source": [
        "recall = recall_score(logistic_reg_data.g, logistic_reg_data.phat)\n",
        "precision = precision_score(logistic_reg_data.g, logistic_reg_data.phat)\n",
        "accuracy = accuracy_score(logistic_reg_data.g, logistic_reg_data.phat)\n",
        "print(\"recall: {0:.4f}\".format(recall))\n",
        "print(\"precision: {0:.4f}\".format(precision))\n",
        "print(\"accuracy: {0:.4f}\".format(accuracy))"
      ]
    },
    {
      "cell_type": "code",
      "execution_count": 17,
      "metadata": {
        "id": "2kZLY2aHgW2O",
        "outputId": "dc7b350d-7df7-4440-c34b-2977f9841a73",
        "colab": {
          "base_uri": "https://localhost:8080/",
          "height": 295
        }
      },
      "outputs": [
        {
          "output_type": "display_data",
          "data": {
            "text/plain": [
              "<Figure size 432x288 with 1 Axes>"
            ],
            "image/png": "[encoded data removed]"
          },
          "metadata": {
            "needs_background": "light"
          }
        }
      ],
      "source": [
        "fpr, tpr, _  = roc_curve(logistic_reg_data.g, logistic_reg_data.phat)\n",
        "plt.figure(1)\n",
        "plt.plot([0, 1], [0, 1], 'k--')\n",
        "plt.plot(fpr, tpr, label='logistic regression')\n",
        "plt.xlabel('False positive rate')\n",
        "plt.ylabel('True positive rate')\n",
        "plt.title('ROC curve')\n",
        "plt.legend(loc='best')\n",
        "plt.show()"
      ]
    },
    {
      "cell_type": "markdown",
      "metadata": {
        "id": "rhciQklXgW2O"
      },
      "source": [
        "# Other APIs"
      ]
    },
    {
      "cell_type": "markdown",
      "metadata": {
        "id": "7mmZX3Z_gW2O"
      },
      "source": [
        "## Statsmodels"
      ]
    },
    {
      "cell_type": "code",
      "execution_count": 18,
      "metadata": {
        "id": "UMvIjxPCgW2O",
        "outputId": "2d0bf2bd-a345-4fb3-fad7-168d687bc4dd",
        "colab": {
          "base_uri": "https://localhost:8080/"
        }
      },
      "outputs": [
        {
          "output_type": "stream",
          "name": "stdout",
          "text": [
            "                 Generalized Linear Model Regression Results                  \n",
            "==============================================================================\n",
            "Dep. Variable:                      y   No. Observations:                  500\n",
            "Model:                            GLM   Df Residuals:                      495\n",
            "Model Family:                Binomial   Df Model:                            4\n",
            "Link Function:                  logit   Scale:                          1.0000\n",
            "Method:                          IRLS   Log-Likelihood:                -29.169\n",
            "Date:                Wed, 29 Jun 2022   Deviance:                       58.338\n",
            "Time:                        13:16:53   Pearson chi2:                     180.\n",
            "No. Iterations:                    10                                         \n",
            "Covariance Type:            nonrobust                                         \n",
            "==============================================================================\n",
            "                 coef    std err          z      P>|z|      [0.025      0.975]\n",
            "------------------------------------------------------------------------------\n",
            "const         -4.2462      0.843     -5.037      0.000      -5.898      -2.594\n",
            "x1            -0.8166      0.519     -1.575      0.115      -1.833       0.200\n",
            "x2             0.2364      0.483      0.489      0.625      -0.711       1.184\n",
            "x3            -7.3208      1.302     -5.623      0.000      -9.873      -4.769\n",
            "x4            -8.0626      1.322     -6.098      0.000     -10.654      -5.471\n",
            "==============================================================================\n"
          ]
        }
      ],
      "source": [
        "import statsmodels.api as sma\n",
        "import statsmodels as sm\n",
        "fit = sma.GLM(endog = g, exog=X, family = sma.families.Binomial()).fit()\n",
        "print(fit.summary())\n",
        "sm_parms = fit.params"
      ]
    },
    {
      "cell_type": "markdown",
      "metadata": {
        "id": "zHp5GkLVgW2O"
      },
      "source": [
        "* Pseduo RSquare = 1 - model deviance / null model deviance\n",
        "\n",
        "the null model is the intercept only model"
      ]
    },
    {
      "cell_type": "code",
      "execution_count": 19,
      "metadata": {
        "id": "fFtEhHb3gW2O",
        "outputId": "b40754f7-3ada-4b8a-d16e-f3b0d8e671ff",
        "colab": {
          "base_uri": "https://localhost:8080/"
        }
      },
      "outputs": [
        {
          "output_type": "stream",
          "name": "stdout",
          "text": [
            "pseudo r^2: 0.9158\n"
          ]
        }
      ],
      "source": [
        "pr2 = 1-fit.deviance / fit.null_deviance\n",
        "print(\"pseudo r^2: {0:.4f}\".format(pr2))"
      ]
    },
    {
      "cell_type": "markdown",
      "metadata": {
        "id": "912rjY4ugW2O"
      },
      "source": [
        "## Scikit learn"
      ]
    },
    {
      "cell_type": "code",
      "execution_count": 20,
      "metadata": {
        "collapsed": true,
        "id": "gQugk4_ygW2P"
      },
      "outputs": [],
      "source": [
        "from sklearn.linear_model import LogisticRegression"
      ]
    },
    {
      "cell_type": "code",
      "execution_count": 40,
      "metadata": {
        "collapsed": true,
        "id": "DxDG7sSNgW2P"
      },
      "outputs": [],
      "source": [
        "sk_lr = LogisticRegression(fit_intercept=False, penalty = \"none\")"
      ]
    },
    {
      "cell_type": "code",
      "execution_count": 41,
      "metadata": {
        "collapsed": true,
        "id": "IfcNWHoMgW2P"
      },
      "outputs": [],
      "source": [
        "sk_lr_fit = sk_lr.fit(X, np.array(g.T)[0])"
      ]
    },
    {
      "cell_type": "code",
      "execution_count": 42,
      "metadata": {
        "id": "GRaiXRpcgW2P",
        "outputId": "18667725-be35-40ef-8b59-b31ee8b2daf4",
        "colab": {
          "base_uri": "https://localhost:8080/"
        }
      },
      "outputs": [
        {
          "output_type": "stream",
          "name": "stdout",
          "text": [
            "[[-4.24621079 -0.81656289  0.2364085  -7.3207608  -8.06258106]]\n"
          ]
        }
      ],
      "source": [
        "sklearn_parms = sk_lr_fit.coef_\n",
        "print(sklearn_parms)"
      ]
    },
    {
      "cell_type": "code",
      "execution_count": 43,
      "metadata": {
        "collapsed": true,
        "id": "dPvPmSfXgW2P",
        "colab": {
          "base_uri": "https://localhost:8080/",
          "height": 206
        },
        "outputId": "0aabe890-7354-4164-8288-552b1aea30e2"
      },
      "outputs": [
        {
          "output_type": "execute_result",
          "data": {
            "text/plain": [
              "   gd from scracth   sklearn  statsmodels\n",
              "0        -4.246135 -4.246211    -4.246218\n",
              "1        -0.816552 -0.816563    -0.816565\n",
              "2         0.236400  0.236408     0.236412\n",
              "3        -7.320654 -7.320761    -7.320775\n",
              "4        -8.062469 -8.062581    -8.062591"
            ],
            "text/html": [
              "\n",
              "  <div id=\"df-964766aa-2933-4445-9604-649ab0225c88\">\n",
              "    <div class=\"colab-df-container\">\n",
              "      <div>\n",
              "<style scoped>\n",
              "    .dataframe tbody tr th:only-of-type {\n",
              "        vertical-align: middle;\n",
              "    }\n",
              "\n",
              "    .dataframe tbody tr th {\n",
              "        vertical-align: top;\n",
              "    }\n",
              "\n",
              "    .dataframe thead th {\n",
              "        text-align: right;\n",
              "    }\n",
              "</style>\n",
              "<table border=\"1\" class=\"dataframe\">\n",
              "  <thead>\n",
              "    <tr style=\"text-align: right;\">\n",
              "      <th></th>\n",
              "      <th>gd from scracth</th>\n",
              "      <th>sklearn</th>\n",
              "      <th>statsmodels</th>\n",
              "    </tr>\n",
              "  </thead>\n",
              "  <tbody>\n",
              "    <tr>\n",
              "      <th>0</th>\n",
              "      <td>-4.246135</td>\n",
              "      <td>-4.246211</td>\n",
              "      <td>-4.246218</td>\n",
              "    </tr>\n",
              "    <tr>\n",
              "      <th>1</th>\n",
              "      <td>-0.816552</td>\n",
              "      <td>-0.816563</td>\n",
              "      <td>-0.816565</td>\n",
              "    </tr>\n",
              "    <tr>\n",
              "      <th>2</th>\n",
              "      <td>0.236400</td>\n",
              "      <td>0.236408</td>\n",
              "      <td>0.236412</td>\n",
              "    </tr>\n",
              "    <tr>\n",
              "      <th>3</th>\n",
              "      <td>-7.320654</td>\n",
              "      <td>-7.320761</td>\n",
              "      <td>-7.320775</td>\n",
              "    </tr>\n",
              "    <tr>\n",
              "      <th>4</th>\n",
              "      <td>-8.062469</td>\n",
              "      <td>-8.062581</td>\n",
              "      <td>-8.062591</td>\n",
              "    </tr>\n",
              "  </tbody>\n",
              "</table>\n",
              "</div>\n",
              "      <button class=\"colab-df-convert\" onclick=\"convertToInteractive('df-964766aa-2933-4445-9604-649ab0225c88')\"\n",
              "              title=\"Convert this dataframe to an interactive table.\"\n",
              "              style=\"display:none;\">\n",
              "        \n",
              "  <svg xmlns=\"http://www.w3.org/2000/svg\" height=\"24px\"viewBox=\"0 0 24 24\"\n",
              "       width=\"24px\">\n",
              "    <path d=\"M0 0h24v24H0V0z\" fill=\"none\"/>\n",
              "    <path d=\"M18.56 5.44l.94 2.06.94-2.06 2.06-.94-2.06-.94-.94-2.06-.94 2.06-2.06.94zm-11 1L8.5 8.5l.94-2.06 2.06-.94-2.06-.94L8.5 2.5l-.94 2.06-2.06.94zm10 10l.94 2.06.94-2.06 2.06-.94-2.06-.94-.94-2.06-.94 2.06-2.06.94z\"/><path d=\"M17.41 7.96l-1.37-1.37c-.4-.4-.92-.59-1.43-.59-.52 0-1.04.2-1.43.59L10.3 9.45l-7.72 7.72c-.78.78-.78 2.05 0 2.83L4 21.41c.39.39.9.59 1.41.59.51 0 1.02-.2 1.41-.59l7.78-7.78 2.81-2.81c.8-.78.8-2.07 0-2.86zM5.41 20L4 18.59l7.72-7.72 1.47 1.35L5.41 20z\"/>\n",
              "  </svg>\n",
              "      </button>\n",
              "      \n",
              "  <style>\n",
              "    .colab-df-container {\n",
              "      display:flex;\n",
              "      flex-wrap:wrap;\n",
              "      gap: 12px;\n",
              "    }\n",
              "\n",
              "    .colab-df-convert {\n",
              "      background-color: #E8F0FE;\n",
              "      border: none;\n",
              "      border-radius: 50%;\n",
              "      cursor: pointer;\n",
              "      display: none;\n",
              "      fill: #1967D2;\n",
              "      height: 32px;\n",
              "      padding: 0 0 0 0;\n",
              "      width: 32px;\n",
              "    }\n",
              "\n",
              "    .colab-df-convert:hover {\n",
              "      background-color: #E2EBFA;\n",
              "      box-shadow: 0px 1px 2px rgba(60, 64, 67, 0.3), 0px 1px 3px 1px rgba(60, 64, 67, 0.15);\n",
              "      fill: #174EA6;\n",
              "    }\n",
              "\n",
              "    [theme=dark] .colab-df-convert {\n",
              "      background-color: #3B4455;\n",
              "      fill: #D2E3FC;\n",
              "    }\n",
              "\n",
              "    [theme=dark] .colab-df-convert:hover {\n",
              "      background-color: #434B5C;\n",
              "      box-shadow: 0px 1px 3px 1px rgba(0, 0, 0, 0.15);\n",
              "      filter: drop-shadow(0px 1px 2px rgba(0, 0, 0, 0.3));\n",
              "      fill: #FFFFFF;\n",
              "    }\n",
              "  </style>\n",
              "\n",
              "      <script>\n",
              "        const buttonEl =\n",
              "          document.querySelector('#df-964766aa-2933-4445-9604-649ab0225c88 button.colab-df-convert');\n",
              "        buttonEl.style.display =\n",
              "          google.colab.kernel.accessAllowed ? 'block' : 'none';\n",
              "\n",
              "        async function convertToInteractive(key) {\n",
              "          const element = document.querySelector('#df-964766aa-2933-4445-9604-649ab0225c88');\n",
              "          const dataTable =\n",
              "            await google.colab.kernel.invokeFunction('convertToInteractive',\n",
              "                                                     [key], {});\n",
              "          if (!dataTable) return;\n",
              "\n",
              "          const docLinkHtml = 'Like what you see? Visit the ' +\n",
              "            '<a target=\"_blank\" href=https://colab.research.google.com/notebooks/data_table.ipynb>data table notebook</a>'\n",
              "            + ' to learn more about interactive tables.';\n",
              "          element.innerHTML = '';\n",
              "          dataTable['output_type'] = 'display_data';\n",
              "          await google.colab.output.renderOutput(dataTable, element);\n",
              "          const docLink = document.createElement('div');\n",
              "          docLink.innerHTML = docLinkHtml;\n",
              "          element.appendChild(docLink);\n",
              "        }\n",
              "      </script>\n",
              "    </div>\n",
              "  </div>\n",
              "  "
            ]
          },
          "metadata": {},
          "execution_count": 43
        }
      ],
      "source": [
        "parms = DataFrame([np.array(b).ravel(), sklearn_parms.ravel(), sm_parms]).T\n",
        "parms.columns = [\"gd from scracth\", \"sklearn\", \"statsmodels\"]\n",
        "parms"
      ]
    }
  ],
  "metadata": {
    "kernelspec": {
      "display_name": "Python [conda env:pgh_data_science]",
      "language": "python",
      "name": "conda-env-pgh_data_science-py"
    },
    "language_info": {
      "codemirror_mode": {
        "name": "ipython",
        "version": 3
      },
      "file_extension": ".py",
      "mimetype": "text/x-python",
      "name": "python",
      "nbconvert_exporter": "python",
      "pygments_lexer": "ipython3",
      "version": "3.5.4"
    },
    "colab": {
      "name": "M4ML Probability.ipynb",
      "provenance": [],
      "include_colab_link": true
    }
  },
  "nbformat": 4,
  "nbformat_minor": 0
}